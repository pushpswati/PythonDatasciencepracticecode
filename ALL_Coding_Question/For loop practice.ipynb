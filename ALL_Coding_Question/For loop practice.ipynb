{
 "cells": [
  {
   "cell_type": "code",
   "execution_count": 42,
   "metadata": {},
   "outputs": [
    {
     "name": "stdout",
     "output_type": "stream",
     "text": [
      "[1]\n",
      "[1, 4]\n",
      "[1, 4, 9]\n",
      "[1, 4, 9, 16]\n"
     ]
    }
   ],
   "source": [
    "squares=[]\n",
    "for i in range(1,5):\n",
    "    squares.append(i**2)\n",
    "    print(squares)"
   ]
  },
  {
   "cell_type": "code",
   "execution_count": 24,
   "metadata": {},
   "outputs": [
    {
     "name": "stdout",
     "output_type": "stream",
     "text": [
      "[1]\n",
      "[1, 4]\n",
      "[1, 4, 9]\n",
      "[1, 4, 9, 16]\n"
     ]
    }
   ],
   "source": [
    "squares=[]\n",
    "for i in range(1,5):\n",
    "    squares.append(i**2)\n",
    "    print(squares)"
   ]
  },
  {
   "cell_type": "code",
   "execution_count": 37,
   "metadata": {},
   "outputs": [
    {
     "name": "stdout",
     "output_type": "stream",
     "text": [
      "Hello from a function\n"
     ]
    },
    {
     "data": {
      "text/plain": [
       "2"
      ]
     },
     "execution_count": 37,
     "metadata": {},
     "output_type": "execute_result"
    }
   ],
   "source": [
    "def my_function(n):\n",
    "    n=2\n",
    "    print(\"Hello from a function\")\n",
    "    return n*1    \n",
    "my_function(4)\n"
   ]
  },
  {
   "cell_type": "code",
   "execution_count": 17,
   "metadata": {},
   "outputs": [
    {
     "data": {
      "text/plain": [
       "2"
      ]
     },
     "execution_count": 17,
     "metadata": {},
     "output_type": "execute_result"
    }
   ],
   "source": [
    "# generator\n",
    "def generator():\n",
    "    data_list=[2,3,3,4,5,4,5,6]\n",
    "    for data in data_list:\n",
    "        yield data\n",
    "g= generator()\n",
    "next(g)"
   ]
  },
  {
   "cell_type": "code",
   "execution_count": 40,
   "metadata": {},
   "outputs": [
    {
     "data": {
      "text/plain": [
       "2"
      ]
     },
     "execution_count": 40,
     "metadata": {},
     "output_type": "execute_result"
    }
   ],
   "source": [
    "def generator():\n",
    "    data_list=[2,3,3,4,5]\n",
    "    for data in data_list:\n",
    "        yield data\n",
    "g=generator()\n",
    "next(g)\n",
    "        "
   ]
  },
  {
   "cell_type": "code",
   "execution_count": 41,
   "metadata": {},
   "outputs": [
    {
     "data": {
      "text/plain": [
       "3"
      ]
     },
     "execution_count": 41,
     "metadata": {},
     "output_type": "execute_result"
    }
   ],
   "source": [
    "next(g)"
   ]
  },
  {
   "cell_type": "code",
   "execution_count": null,
   "metadata": {},
   "outputs": [],
   "source": [
    "def generator():\n",
    "    \n",
    "for data in datalist:\n",
    "    yield data\n",
    "g= generator()\n",
    "next(g)"
   ]
  },
  {
   "cell_type": "code",
   "execution_count": 16,
   "metadata": {},
   "outputs": [
    {
     "ename": "NameError",
     "evalue": "name 'g' is not defined",
     "output_type": "error",
     "traceback": [
      "\u001b[0;31m---------------------------------------------------------------------------\u001b[0m",
      "\u001b[0;31mNameError\u001b[0m                                 Traceback (most recent call last)",
      "\u001b[0;32m<ipython-input-16-e734f8aca5ac>\u001b[0m in \u001b[0;36m<module>\u001b[0;34m\u001b[0m\n\u001b[0;32m----> 1\u001b[0;31m \u001b[0mnext\u001b[0m\u001b[0;34m(\u001b[0m\u001b[0mg\u001b[0m\u001b[0;34m)\u001b[0m\u001b[0;34m\u001b[0m\u001b[0;34m\u001b[0m\u001b[0m\n\u001b[0m",
      "\u001b[0;31mNameError\u001b[0m: name 'g' is not defined"
     ]
    }
   ],
   "source": [
    "next(g)"
   ]
  },
  {
   "cell_type": "code",
   "execution_count": 22,
   "metadata": {},
   "outputs": [
    {
     "data": {
      "text/plain": [
       "4"
      ]
     },
     "execution_count": 22,
     "metadata": {},
     "output_type": "execute_result"
    }
   ],
   "source": [
    "next(g)"
   ]
  },
  {
   "cell_type": "code",
   "execution_count": 4,
   "metadata": {},
   "outputs": [
    {
     "name": "stdout",
     "output_type": "stream",
     "text": [
      "inner1\n",
      "inside2\n",
      "sum= 11\n"
     ]
    }
   ],
   "source": [
    "# decorator\n",
    "def hellodecorator(func):\n",
    "    def inner1(*args,**kwargs):\n",
    "        print(\"inner1\")\n",
    "        \n",
    "        returned_value=func(*args,**kwargs)\n",
    "    \n",
    "        return returned_value\n",
    "    return inner1\n",
    "\n",
    "@hellodecorator\n",
    "def add_funct(a,b,c):\n",
    "    print(\"inside2\")\n",
    "    return a+b+c\n",
    "\n",
    "a,b,c=1,2,8\n",
    "print(\"sum=\",add_funct(a,b,c))"
   ]
  },
  {
   "cell_type": "code",
   "execution_count": 43,
   "metadata": {},
   "outputs": [
    {
     "name": "stdout",
     "output_type": "stream",
     "text": [
      "in\n",
      "in2\n",
      "sum= 6\n"
     ]
    }
   ],
   "source": [
    "def hellodeco(fun):\n",
    "    def inner1(*args,**kwargs):\n",
    "        print(\"in\")\n",
    "        retval= fun(*args,**kwargs)\n",
    "        return retval\n",
    "    return inner1\n",
    "@hellodeco\n",
    "def sum(a,b,c):\n",
    "    print(\"in2\")\n",
    "    return a+b+c\n",
    "\n",
    "a,b,c= 1,2,3\n",
    "print(\"sum=\",sum(a,b,c))"
   ]
  },
  {
   "cell_type": "code",
   "execution_count": 45,
   "metadata": {},
   "outputs": [
    {
     "ename": "ValueError",
     "evalue": "not enough values to unpack (expected 3, got 2)",
     "output_type": "error",
     "traceback": [
      "\u001b[0;31m---------------------------------------------------------------------------\u001b[0m",
      "\u001b[0;31mValueError\u001b[0m                                Traceback (most recent call last)",
      "\u001b[0;32m<ipython-input-45-392721871ca2>\u001b[0m in \u001b[0;36m<module>\u001b[0;34m\u001b[0m\n\u001b[1;32m     12\u001b[0m     \u001b[0;32mreturn\u001b[0m \u001b[0ma\u001b[0m\u001b[0;34m+\u001b[0m\u001b[0mb\u001b[0m\u001b[0;34m+\u001b[0m\u001b[0mc\u001b[0m\u001b[0;34m\u001b[0m\u001b[0;34m\u001b[0m\u001b[0m\n\u001b[1;32m     13\u001b[0m \u001b[0;34m\u001b[0m\u001b[0m\n\u001b[0;32m---> 14\u001b[0;31m \u001b[0ma\u001b[0m\u001b[0;34m,\u001b[0m\u001b[0mb\u001b[0m\u001b[0;34m,\u001b[0m\u001b[0mc\u001b[0m\u001b[0;34m=\u001b[0m\u001b[0;36m1\u001b[0m\u001b[0;34m,\u001b[0m\u001b[0;36m2\u001b[0m\u001b[0;34m\u001b[0m\u001b[0;34m\u001b[0m\u001b[0m\n\u001b[0m\u001b[1;32m     15\u001b[0m \u001b[0mprint\u001b[0m\u001b[0;34m(\u001b[0m\u001b[0;34m\"sum=\"\u001b[0m\u001b[0;34m,\u001b[0m\u001b[0msum_two_humers\u001b[0m\u001b[0;34m(\u001b[0m\u001b[0ma\u001b[0m\u001b[0;34m,\u001b[0m\u001b[0mb\u001b[0m\u001b[0;34m,\u001b[0m\u001b[0mc\u001b[0m\u001b[0;34m)\u001b[0m\u001b[0;34m)\u001b[0m\u001b[0;34m\u001b[0m\u001b[0;34m\u001b[0m\u001b[0m\n",
      "\u001b[0;31mValueError\u001b[0m: not enough values to unpack (expected 3, got 2)"
     ]
    }
   ],
   "source": [
    "def hellodecorator(func):\n",
    "    def inner1(*args,**kwargs):\n",
    "        print(\"inner1\")\n",
    "        \n",
    "        return_value=func(*args,**kwargs)\n",
    "        return inner1\n",
    "    \n",
    "    \n",
    "@hellodecorator\n",
    "def sum_two_humers(a,b,c):\n",
    "    print(\"innsed 2\")\n",
    "    return a+b+c\n",
    "\n",
    "a,b,c=1,2\n",
    "print(\"sum=\",sum_two_humers(a,b,c))"
   ]
  },
  {
   "cell_type": "code",
   "execution_count": 52,
   "metadata": {},
   "outputs": [
    {
     "name": "stdout",
     "output_type": "stream",
     "text": [
      "Decorated\n",
      "Old\n"
     ]
    }
   ],
   "source": [
    "def mk(x):\n",
    "    def mk1():\n",
    "        print(\"Decorated\")\n",
    "        x()\n",
    "    return mk1\n",
    "def mk2():\n",
    "    print(\"Old\")\n",
    "obj = mk(mk2)\n",
    "obj()"
   ]
  },
  {
   "cell_type": "code",
   "execution_count": null,
   "metadata": {},
   "outputs": [],
   "source": []
  },
  {
   "cell_type": "code",
   "execution_count": 48,
   "metadata": {},
   "outputs": [
    {
     "name": "stdout",
     "output_type": "stream",
     "text": [
      "<class 'dict'>\n"
     ]
    }
   ],
   "source": [
    "x = ('key1', 'key2', 'key3')\n",
    "type(x)\n",
    "y = 0\n",
    "\n",
    "thisdict = dict.fromkeys(x, y)      #====> to distribute the value to all the keys\n",
    "print(type(thisdict))"
   ]
  },
  {
   "cell_type": "code",
   "execution_count": 47,
   "metadata": {},
   "outputs": [
    {
     "data": {
      "text/plain": [
       "tuple"
      ]
     },
     "execution_count": 47,
     "metadata": {},
     "output_type": "execute_result"
    }
   ],
   "source": [
    "x = ('key1', 'key2', 'key3')\n",
    "type(x)"
   ]
  },
  {
   "cell_type": "code",
   "execution_count": null,
   "metadata": {},
   "outputs": [],
   "source": []
  },
  {
   "cell_type": "code",
   "execution_count": 10,
   "metadata": {},
   "outputs": [
    {
     "name": "stdout",
     "output_type": "stream",
     "text": [
      "fucntion1\n"
     ]
    },
    {
     "data": {
      "text/plain": [
       "<bound method A.monkey_f of <__main__.A object at 0x7fa4c0293828>>"
      ]
     },
     "execution_count": 10,
     "metadata": {},
     "output_type": "execute_result"
    }
   ],
   "source": [
    "class A:\n",
    "    def func(self,a):\n",
    "        print(\"fucntion1\")\n",
    "    def monkey_f(self):\n",
    "        print(\"fucntion2\")\n",
    "obj=A()\n",
    "obj.func(3)\n",
    "obj.monkey_f"
   ]
  },
  {
   "cell_type": "code",
   "execution_count": null,
   "metadata": {},
   "outputs": [],
   "source": [
    "class Withdraw:\n",
    "    def witha(self,amount):\n",
    "\n",
    "        self.amount=amount\n",
    "        return amount\n",
    "withobj=Withdraw()\n",
    "withobj.witha(50)"
   ]
  },
  {
   "cell_type": "code",
   "execution_count": null,
   "metadata": {},
   "outputs": [],
   "source": [
    "class Withdraw:\n",
    "    "
   ]
  },
  {
   "cell_type": "code",
   "execution_count": null,
   "metadata": {},
   "outputs": [],
   "source": [
    "class Person:\n",
    "    pass\n",
    "\n",
    "p1 = Person()\n",
    "\n",
    "print(p1)"
   ]
  },
  {
   "cell_type": "code",
   "execution_count": null,
   "metadata": {},
   "outputs": [],
   "source": [
    "class Person:\n",
    "    def __init__(self, name, age):\n",
    "        self.name = name\n",
    "        self.age = age\n",
    "    def price(self,num):\n",
    "        return num*2\n",
    "\n",
    "p1 = Person(\"John\", 36)\n",
    "priceodata=p1.price(2)\n",
    "print(priceodata)\n",
    "\n",
    "print(p1.name)\n",
    "print(p1.age)"
   ]
  },
  {
   "cell_type": "code",
   "execution_count": null,
   "metadata": {},
   "outputs": [],
   "source": [
    "# for loop normal for loop\n",
    "\n",
    "\n",
    "fruits=[\"apple\",\"banana\",\"cherry\"]\n",
    "\n",
    "for i in fruits:\n",
    "    print(i)"
   ]
  },
  {
   "cell_type": "code",
   "execution_count": null,
   "metadata": {},
   "outputs": [],
   "source": [
    "a=[1,2,3]\n",
    "b=a\n",
    "b[1]=4"
   ]
  },
  {
   "cell_type": "code",
   "execution_count": null,
   "metadata": {},
   "outputs": [],
   "source": [
    "b"
   ]
  },
  {
   "cell_type": "code",
   "execution_count": null,
   "metadata": {},
   "outputs": [],
   "source": [
    "a"
   ]
  },
  {
   "cell_type": "code",
   "execution_count": 5,
   "metadata": {},
   "outputs": [
    {
     "ename": "NameError",
     "evalue": "name 'args' is not defined",
     "output_type": "error",
     "traceback": [
      "\u001b[0;31m---------------------------------------------------------------------------\u001b[0m",
      "\u001b[0;31mNameError\u001b[0m                                 Traceback (most recent call last)",
      "\u001b[0;32m<ipython-input-5-0c9dccb74924>\u001b[0m in \u001b[0;36m<module>\u001b[0;34m\u001b[0m\n\u001b[0;32m----> 1\u001b[0;31m \u001b[0mtype\u001b[0m\u001b[0;34m(\u001b[0m\u001b[0;34m*\u001b[0m\u001b[0margs\u001b[0m\u001b[0;34m)\u001b[0m\u001b[0;34m==\u001b[0m\u001b[0mtuple\u001b[0m\u001b[0;34m\u001b[0m\u001b[0;34m\u001b[0m\u001b[0m\n\u001b[0m",
      "\u001b[0;31mNameError\u001b[0m: name 'args' is not defined"
     ]
    }
   ],
   "source": [
    "type(*args)==tuple"
   ]
  },
  {
   "cell_type": "code",
   "execution_count": null,
   "metadata": {},
   "outputs": [],
   "source": [
    "a=\"abc\"\n",
    "\n",
    "z=a+\"b\""
   ]
  },
  {
   "cell_type": "code",
   "execution_count": null,
   "metadata": {},
   "outputs": [],
   "source": [
    "z"
   ]
  },
  {
   "cell_type": "code",
   "execution_count": null,
   "metadata": {},
   "outputs": [],
   "source": [
    "print(type(*kwargs))==dict"
   ]
  },
  {
   "cell_type": "code",
   "execution_count": null,
   "metadata": {},
   "outputs": [],
   "source": [
    "a=\"abc\"\n",
    "\n",
    "z=a+\"b\""
   ]
  },
  {
   "cell_type": "code",
   "execution_count": null,
   "metadata": {},
   "outputs": [],
   "source": [
    "z"
   ]
  },
  {
   "cell_type": "code",
   "execution_count": 38,
   "metadata": {},
   "outputs": [
    {
     "name": "stdout",
     "output_type": "stream",
     "text": [
      "count of character of string:  {'a': 2, 'b': 1, 'e': 1, 'g': 1, 'l': 1, 'n': 1, 'o': 1, 'r': 1}\n"
     ]
    }
   ],
   "source": [
    "# occurence of a and how much a or o in string\n",
    "stringa =\"bangalore\"\n",
    "\n",
    "stringb=\"abcdefghijklmnor\"\n",
    "strdict={}\n",
    "for ch in stringb:\n",
    "    count=0\n",
    "    for c in stringa:\n",
    "        if(ch==c):\n",
    "            \n",
    "            if ch in strdict:\n",
    "                strdict[ch]=strdict[ch]+1\n",
    "            else:\n",
    "                 strdict[ch]=1\n",
    "print(\"count of character of string: \",strdict)\n",
    "   "
   ]
  },
  {
   "cell_type": "code",
   "execution_count": 45,
   "metadata": {},
   "outputs": [
    {
     "name": "stdout",
     "output_type": "stream",
     "text": [
      "count of character of str: {'a': 3, 'b': 3, 'c': 2, 'd': 2, 'e': 2}\n"
     ]
    }
   ],
   "source": [
    "stra=\"abcde\"\n",
    "strb=\"aaabbbccddee\"\n",
    "strdict1={}\n",
    "\n",
    "for i in strb:\n",
    "    count=0\n",
    "    for j in stra:\n",
    "        if(i==j):\n",
    "            if i in strdict1:\n",
    "                strdict1[i]=strdict1[i]+1\n",
    "            else:\n",
    "                strdict1[i]=1\n",
    "print(\"count of character of str:\",strdict1)"
   ]
  },
  {
   "cell_type": "code",
   "execution_count": null,
   "metadata": {},
   "outputs": [],
   "source": []
  },
  {
   "cell_type": "code",
   "execution_count": 39,
   "metadata": {},
   "outputs": [
    {
     "name": "stdout",
     "output_type": "stream",
     "text": [
      "counting a 1\n",
      "counting a 2\n",
      "\n"
     ]
    }
   ],
   "source": [
    "stringz=\"aabcded\"\n",
    "count=0\n",
    "for i in stringz:\n",
    "    if i==\"a\":\n",
    "        count+=1\n",
    "        print(\"counting\",i,count)\n",
    "print()"
   ]
  },
  {
   "cell_type": "code",
   "execution_count": 43,
   "metadata": {},
   "outputs": [
    {
     "name": "stdout",
     "output_type": "stream",
     "text": [
      "2\n"
     ]
    }
   ],
   "source": [
    "str1=\"swatii\"\n",
    "countstr=0\n",
    "for i in str1:\n",
    "    if i==\"i\":\n",
    "        countstr+=1\n",
    "        \n",
    "print(countstr)\n",
    "    "
   ]
  },
  {
   "cell_type": "code",
   "execution_count": null,
   "metadata": {},
   "outputs": [],
   "source": []
  },
  {
   "cell_type": "code",
   "execution_count": null,
   "metadata": {},
   "outputs": [],
   "source": []
  },
  {
   "cell_type": "code",
   "execution_count": null,
   "metadata": {},
   "outputs": [],
   "source": [
    "# loop through a string in one element\n",
    "\n",
    "for i in \"banana\":\n",
    "    print(i)"
   ]
  },
  {
   "cell_type": "code",
   "execution_count": 48,
   "metadata": {},
   "outputs": [
    {
     "name": "stdout",
     "output_type": "stream",
     "text": [
      "apple\n",
      "banana\n"
     ]
    }
   ],
   "source": [
    "# the break statement \n",
    "fruits=[\"apple\",\"banana\",\"cherry\"]\n",
    "for i in fruits:\n",
    "    \n",
    "    print(i)\n",
    "    \n",
    "    if i==\"banana\":\n",
    "        break"
   ]
  },
  {
   "cell_type": "code",
   "execution_count": 49,
   "metadata": {},
   "outputs": [
    {
     "name": "stdout",
     "output_type": "stream",
     "text": [
      "apple\n"
     ]
    }
   ],
   "source": [
    "# 2nd way of break loop \n",
    "fruits=[\"apple\",\"banana\",\"cherry\"]\n",
    "\n",
    "for i in fruits:\n",
    "    if i==\"banana\":\n",
    "        break\n",
    "    print(i)"
   ]
  },
  {
   "cell_type": "code",
   "execution_count": null,
   "metadata": {},
   "outputs": [],
   "source": [
    "# continue with for loop\n",
    "\n",
    "for i in fruits:\n",
    "    if i == \"banana\":\n",
    "        continue\n",
    "    print(i)"
   ]
  },
  {
   "cell_type": "code",
   "execution_count": 1,
   "metadata": {},
   "outputs": [
    {
     "name": "stdout",
     "output_type": "stream",
     "text": [
      "0\n",
      "1\n",
      "2\n",
      "3\n",
      "4\n",
      "5\n"
     ]
    }
   ],
   "source": [
    "# range for for loop\n",
    "\n",
    "for i in range(6):\n",
    "    print(i)"
   ]
  },
  {
   "cell_type": "code",
   "execution_count": null,
   "metadata": {},
   "outputs": [],
   "source": [
    "for i in range(2,6):\n",
    "    print(i)"
   ]
  },
  {
   "cell_type": "code",
   "execution_count": 50,
   "metadata": {},
   "outputs": [
    {
     "name": "stdout",
     "output_type": "stream",
     "text": [
      "2\n",
      "5\n",
      "8\n"
     ]
    }
   ],
   "source": [
    "for i in range(2,10,3):\n",
    "    print(i)"
   ]
  },
  {
   "cell_type": "code",
   "execution_count": null,
   "metadata": {},
   "outputs": [],
   "source": [
    "# else with for loop \n",
    "\n",
    "for i in range(6):\n",
    "    print(i)\n",
    "else:\n",
    "    print(\"finally finished!\")"
   ]
  },
  {
   "cell_type": "code",
   "execution_count": null,
   "metadata": {},
   "outputs": [],
   "source": [
    "# nested loop\n",
    "\n",
    "adj=[\"red\",\"big\",\"tasty\"]     #3\n",
    "fruits=[\"apple\",\"banana\",\"cherry\"]# 6/3=2n complexity\n",
    "\n",
    "for x in adj:\n",
    "    for y in fruits:\n",
    "        print(x,y)"
   ]
  },
  {
   "cell_type": "markdown",
   "metadata": {},
   "source": [
    "#  if_else loop\n"
   ]
  },
  {
   "cell_type": "code",
   "execution_count": null,
   "metadata": {},
   "outputs": [],
   "source": [
    "a=40\n",
    "b=40\n",
    "print(\"B\") if b>a else print(\"=\") if a==b else print(\"A\")\n"
   ]
  },
  {
   "cell_type": "code",
   "execution_count": null,
   "metadata": {},
   "outputs": [],
   "source": [
    "# > greater than ,< less than"
   ]
  },
  {
   "cell_type": "code",
   "execution_count": null,
   "metadata": {},
   "outputs": [],
   "source": [
    "# or for 2no mese ek shi ,and operation both are true"
   ]
  },
  {
   "cell_type": "markdown",
   "metadata": {},
   "source": [
    "# while loop"
   ]
  },
  {
   "cell_type": "code",
   "execution_count": null,
   "metadata": {},
   "outputs": [],
   "source": [
    "# while loop can execute a set of statement as long as  a condition is true\n",
    "\n",
    "i=1\n",
    "while i<6:\n",
    "    print(i)\n",
    "    i+=1"
   ]
  },
  {
   "cell_type": "code",
   "execution_count": null,
   "metadata": {},
   "outputs": [],
   "source": [
    "# break statment\n",
    "\n",
    "i=1\n",
    "while i<6:\n",
    "    print(i)\n",
    "    if i==3:\n",
    "        break\n",
    "    i+=1"
   ]
  },
  {
   "cell_type": "code",
   "execution_count": null,
   "metadata": {},
   "outputs": [],
   "source": [
    "# continue statement\n",
    "\n",
    "i=1\n",
    "while i<6:\n",
    "    i+=1\n",
    "    if i==3:\n",
    "        continue\n",
    "    print(i)"
   ]
  },
  {
   "cell_type": "code",
   "execution_count": null,
   "metadata": {},
   "outputs": [],
   "source": [
    "# else_if statement\n",
    "\n",
    "i=1\n",
    "while i<6:\n",
    "    i+=1\n",
    "    print(i)\n",
    "    \n",
    "else:\n",
    "    print(\"i is no longer less the 6\")"
   ]
  },
  {
   "cell_type": "code",
   "execution_count": null,
   "metadata": {},
   "outputs": [],
   "source": [
    "i=1\n",
    "while i<6:\n",
    "   \n",
    "    print(i)\n",
    "    i+=1\n",
    "    \n",
    "else:\n",
    "    print(\"i is no longer less the 6\")"
   ]
  },
  {
   "cell_type": "code",
   "execution_count": null,
   "metadata": {},
   "outputs": [],
   "source": [
    "# using for loop printing *\n",
    "\n",
    "for x in range(1,6):\n",
    "    for y in range(1,6):         # complexity of this loop :- number of comparision outerloop=5,innerloop=5+5+5+5+5=25\n",
    "                                # 5+25=30(total),/len(listor n)*n=5n\n",
    "        print(\"$\",end=\" \")\n",
    "    print()\n",
    "\n",
    "    \n",
    "    "
   ]
  },
  {
   "cell_type": "code",
   "execution_count": null,
   "metadata": {},
   "outputs": [],
   "source": [
    "for x in range(1,6):\n",
    "    for y in range(1,6-x):\n",
    "        print(\"#\",end=\" \")\n",
    "    print()                   # complexity:- l1=5,l2=4+3+2+1=10,complexity=15/5*n=3n"
   ]
  },
  {
   "cell_type": "code",
   "execution_count": null,
   "metadata": {},
   "outputs": [],
   "source": [
    "for x in range(1,6):\n",
    "    for y in range(1,6-x):\n",
    "        print(\" \",end=\" \")\n",
    "    for z in range(6-x,6-1):\n",
    "        print(\"@\",end=\" \")                     \n",
    "    print()                     # l1=5,l2=4+3+2+1 , l3=1+"
   ]
  },
  {
   "cell_type": "code",
   "execution_count": null,
   "metadata": {},
   "outputs": [],
   "source": [
    "for x in range(1,6):\n",
    "    for y in range(1,x):\n",
    "        print(\"@\",end=\" \")\n",
    "    print()                         # complexity:- l1=5 , l2=5+4+3+2+1 ,l1+l2=5+15=20 ,20/5*n= 4n"
   ]
  },
  {
   "cell_type": "code",
   "execution_count": null,
   "metadata": {
    "scrolled": true
   },
   "outputs": [],
   "source": [
    "for x in range(1,6):\n",
    "    for y in range(1,6-x):\n",
    "        print(\" \",end=\" \")\n",
    "    for z in range(6-x,x+1):\n",
    "        print(\"*\",end=\" \")\n",
    "    print()\n",
    "                                       # complexity:- l1=5 , l2=4+3+2+1, "
   ]
  },
  {
   "cell_type": "code",
   "execution_count": null,
   "metadata": {},
   "outputs": [],
   "source": [
    "for x in range(1,n):\n",
    "    for y in range(1,n-x):\n",
    "        print(\" \",end=\" \")\n",
    "    for z in range(1,2*x):\n",
    "        print(\"*\",end=\" \")\n",
    "    print()\n",
    "                                       # complexity:= l1=n ,                                                                                                                                                                                                                                                                                                                                                                                                                                                                                                                                                                                                                                                                                                                                                                                                                                                                                                                                                                                                                                                                                                                                                                                                                                                                                                                                                                                                                                                                                                                                                                                                                                                                                                                                                                                                                                                                                                                                                                                                                                                                                                                                                                                                                                                                                                                                                                                                                                                                                                                                                                                                                                                                                                                                                                                                                                                                                                                                                                                                                                                                                                                                                                                                                                                                                                                                                                                                                                                                                                                                                                                                                                                                                                                                                                                                                                                                                                                                                                                                                                                                                                                                                                                                                                                                                                                                                                                                                                                                                                                                                                                                                                                                                                                                                                                                                                                                                                                                                                                                                                                                                                                                                                                                                                                                                                                                                                                                                                                                                                                                                                                                                                                                                                                                                                                                                                                                                                                                                                                                                                                                                                                                                                                                                                                                                                                                                                                                                                                                                                                                                                                                                                                                                                                                                                                                                                                                                                                                                                                                                                                                                                                                                                                                                                                                                                                                                                                                                                                                                                                                                                                                                                                                                                                                                                                                                                                                                                                                                                                                                                                                                                                                                                                                                                                                                                                                                                                                                                                                                                                                                                                                                                                                                                                                                                                                                                                                                                                                                                                                                                                                                                                                                                                                                                                                                                                                                                                                                                                                                                                                                                                                                                                                                                                                                                                                                                                                                                                                                                                                                                                                                                                                                                                                                                                                                                                                                                                                                                                                                                                                                                                                                                                                                                                                                                                                                                                                                                                                                                                                                                                                                                                                                                                                                                                                                                                                                                                                                                                                                                                                                                                                                                                                                                                                                                                                                                                                                                                                                                                                                                                                                                                                                                                                                                                                                                                                                                                                                                                                                                                                                                                                                                                                                                                                                                                                                                                                                                                                                                                                                                                                                                                                                                                                                                                                                                                                                                                                                                                                                                                                                                                                                                                                                                                                                                                                                                                                                                                                                                                                                                                                                                                                                                                "
   ]
  },
  {
   "cell_type": "code",
   "execution_count": null,
   "metadata": {},
   "outputs": [],
   "source": [
    "n=6\n",
    "for x in range(1,n):\n",
    "    for y in range(1,x):\n",
    "        print(\" \",end=\" \")\n",
    "    for z in range(x,2*n-x-1):\n",
    "        print(\"*\",end=\" \")\n",
    "    print()"
   ]
  },
  {
   "cell_type": "code",
   "execution_count": null,
   "metadata": {},
   "outputs": [],
   "source": [
    "n=6\n",
    "for x in range(1,n):\n",
    "    for y in range(1,n-x):\n",
    "        print(\" \",end=\" \")\n",
    "    for z in range(1,2*x):\n",
    "        print(\"*\",end=\" \")\n",
    "    print()\n",
    "\n",
    "for x in range(1,n):\n",
    "    for y in range(1,x):\n",
    "        print(\" \",end=\" \")\n",
    "    for z in range(x,2*n-x-1):\n",
    "        print(\"*\",end=\" \")\n",
    "    print()\n",
    "    "
   ]
  },
  {
   "cell_type": "code",
   "execution_count": null,
   "metadata": {},
   "outputs": [],
   "source": [
    "n=6\n",
    "for x in range(1,n):\n",
    "    for y in range(1,n-x):\n",
    "        print(\" \",end=\" \")\n",
    "    for z in range(1,2*x):\n",
    "        print(\"*\",end=\" \")\n",
    "    print()\n",
    "    for y in range(1,x):\n",
    "        print(\" \",end=\" \")\n",
    "    for z in range(x,2*n-x-1):\n",
    "        print(\"*\",end=\" \")\n",
    "    print()"
   ]
  },
  {
   "cell_type": "code",
   "execution_count": null,
   "metadata": {},
   "outputs": [],
   "source": [
    "n=6\n",
    "for x in range(1,n):\n",
    "    for y in range(1,n-x):\n",
    "        print(\" \",end=\" \")\n",
    "    for z in range(n-x,x+1):\n",
    "        print(\"*\",end=\" \")\n",
    "    print()\n",
    "    for y in range(1,x):\n",
    "        print(\" \",end=\" \")\n",
    "    for z in range(x,n-x+1):\n",
    "        print(\"*\",end=\" \")\n",
    "    print()"
   ]
  },
  {
   "cell_type": "code",
   "execution_count": null,
   "metadata": {},
   "outputs": [],
   "source": [
    "for x in range(1,6):\n",
    "    for y in range(1,x):\n",
    "        print(\"@\",end=\" \")\n",
    "    for z in range(x,6-1):\n",
    "        print(\"*\",end=\" \")\n",
    "    print()"
   ]
  },
  {
   "cell_type": "code",
   "execution_count": null,
   "metadata": {},
   "outputs": [],
   "source": [
    "for x in range(1,6):\n",
    "    for y in range(1,6-x):\n",
    "        print(\" \",)\n",
    "    "
   ]
  },
  {
   "cell_type": "code",
   "execution_count": null,
   "metadata": {},
   "outputs": [],
   "source": [
    "for x in range(1,6):\n",
    "    for y in range(1,x-1):\n",
    "        print(\"@\",end=\" \")\n",
    "    for z in range(x-1,y):\n",
    "            print(\"&\",end=\" \")\n",
    "    print()"
   ]
  },
  {
   "cell_type": "code",
   "execution_count": null,
   "metadata": {},
   "outputs": [],
   "source": [
    "for x in range(1,6):\n",
    "    for y in range(1,x):\n",
    "        print(\"@\",end=\" \")\n",
    "    for z in range(x,6):\n",
    "            print(\"*\",end=\" \")\n",
    "    print()"
   ]
  },
  {
   "cell_type": "code",
   "execution_count": null,
   "metadata": {},
   "outputs": [],
   "source": [
    "for x in range(1,6):\n",
    "    for y in range(1,6-x):\n",
    "        print(\"@\",end=\" \")\n",
    "    for z in range(6-x,6-1):\n",
    "        print(\"*\",end=\" \")\n",
    "    print()"
   ]
  },
  {
   "cell_type": "code",
   "execution_count": null,
   "metadata": {},
   "outputs": [],
   "source": [
    "for x in range(0,5):\n",
    "    for y in range(0,x):\n",
    "        print(\" \",end=\" \")\n",
    "    for z in range(x,5-x):\n",
    "        print(\"*\",end=\" \")\n",
    "    print()"
   ]
  },
  {
   "cell_type": "markdown",
   "metadata": {},
   "source": [
    "# Convert list [ ] to string \"\"\"\"\""
   ]
  },
  {
   "cell_type": "code",
   "execution_count": null,
   "metadata": {},
   "outputs": [],
   "source": [
    "lista=[\"a\",\"girl\",\"age\",\"is\"]\n",
    "varsplit=' '.join(lista)\n",
    "print(varsplit)"
   ]
  },
  {
   "cell_type": "markdown",
   "metadata": {},
   "source": [
    "# Convert String \" \" into    list[]"
   ]
  },
  {
   "cell_type": "code",
   "execution_count": null,
   "metadata": {},
   "outputs": [],
   "source": [
    "strl=\"my name is khan\"\n",
    "varlist=strl.split()\n",
    "print(varlist)"
   ]
  },
  {
   "cell_type": "markdown",
   "metadata": {},
   "source": [
    "# list [ ]     convert to    tuple()"
   ]
  },
  {
   "cell_type": "code",
   "execution_count": null,
   "metadata": {},
   "outputs": [],
   "source": [
    "tuplevar=tuple(lista)\n",
    "print(tuplevar)"
   ]
  },
  {
   "cell_type": "markdown",
   "metadata": {},
   "source": [
    "# tuple () convert to list[]"
   ]
  },
  {
   "cell_type": "code",
   "execution_count": null,
   "metadata": {},
   "outputs": [],
   "source": [
    "listvar=list(tuplevar)\n",
    "print(listvar)"
   ]
  },
  {
   "cell_type": "markdown",
   "metadata": {},
   "source": [
    "# list [] convert to set()"
   ]
  },
  {
   "cell_type": "code",
   "execution_count": null,
   "metadata": {},
   "outputs": [],
   "source": [
    "listvar=['sun','mon','tue','wed']\n",
    "setvar=set(listvar)\n",
    "print(setvar)"
   ]
  },
  {
   "cell_type": "code",
   "execution_count": null,
   "metadata": {},
   "outputs": [],
   "source": [
    "weekdays = ['sun','mon','tue','wed','thu','fri','sun','mon','mon']\n",
    "print(weekdays.count('mon'))"
   ]
  },
  {
   "cell_type": "markdown",
   "metadata": {},
   "source": [
    "# in list of occurence of list element "
   ]
  },
  {
   "cell_type": "code",
   "execution_count": null,
   "metadata": {
    "scrolled": true
   },
   "outputs": [],
   "source": [
    "listweekdays=[\"sun\",\"mon\",\"tue\",\"wed\",\"sun\",\"tue\"]\n",
    "countdict={}\n",
    "\n",
    "for i in listweekdays:\n",
    "    count=0\n",
    "    for el in listweekdays:\n",
    "        if i == el:\n",
    "            count+=1\n",
    "    countdict[i]=count\n",
    "    print(countdict)\n",
    "    \n",
    "        \n",
    "    #print()"
   ]
  },
  {
   "cell_type": "code",
   "execution_count": null,
   "metadata": {},
   "outputs": [],
   "source": [
    "setvar=set(listweekdays)\n",
    "print(setvar)"
   ]
  },
  {
   "cell_type": "code",
   "execution_count": null,
   "metadata": {},
   "outputs": [],
   "source": [
    "print([[x,listweekdays.count(x)]for x in set(listweekdays)])"
   ]
  },
  {
   "cell_type": "code",
   "execution_count": null,
   "metadata": {},
   "outputs": [],
   "source": [
    "for i,listweekdays in enumerate(listweekdays):\n",
    "    print(i,listweekdays)"
   ]
  },
  {
   "cell_type": "markdown",
   "metadata": {},
   "source": [
    "# set data  type in python"
   ]
  },
  {
   "cell_type": "code",
   "execution_count": null,
   "metadata": {},
   "outputs": [],
   "source": [
    "setvar"
   ]
  },
  {
   "cell_type": "code",
   "execution_count": null,
   "metadata": {},
   "outputs": [],
   "source": [
    "print(len(setvar))"
   ]
  },
  {
   "cell_type": "code",
   "execution_count": null,
   "metadata": {},
   "outputs": [],
   "source": [
    "if 'sun' in setvar:\n",
    "    print(\"sun is not in set\")"
   ]
  },
  {
   "cell_type": "code",
   "execution_count": null,
   "metadata": {},
   "outputs": [],
   "source": [
    "items=set()\n",
    "items.add('python')\n",
    "items.add('java')\n",
    "items.add('mongodb')\n",
    "print(items)"
   ]
  },
  {
   "cell_type": "code",
   "execution_count": null,
   "metadata": {},
   "outputs": [],
   "source": [
    "range(1,10)"
   ]
  },
  {
   "cell_type": "code",
   "execution_count": null,
   "metadata": {},
   "outputs": [],
   "source": [
    "globvar = 0\n",
    "def set_globvar_to_one():\n",
    "    global globvar\n",
    "    globvar = 1\n",
    "    print(globvar)"
   ]
  },
  {
   "cell_type": "code",
   "execution_count": null,
   "metadata": {},
   "outputs": [],
   "source": [
    "def print_globvar():\n",
    "    print globvar # No need for global declaration to read value of globvar\n",
    "    set_globvar_to_one()\n",
    "print_globvar()"
   ]
  },
  {
   "cell_type": "markdown",
   "metadata": {},
   "source": [
    "# Python  Coding Questions"
   ]
  },
  {
   "cell_type": "code",
   "execution_count": null,
   "metadata": {},
   "outputs": [],
   "source": [
    "names1 = ['Amir', 'Bear', 'Charlton', 'Daman']\n",
    "names2 = names1\n",
    "names3 = names1[:]\n",
    "\n",
    "names2[0] = 'Alice'\n",
    "names3[1] = 'Bob'\n",
    "\n",
    "sum = 0\n",
    "\n",
    "for ls in (names1, names2, names3):\n",
    "    if ls[0] == 'Alice':\n",
    "        sum += 1\n",
    "        \n",
    "    if ls[1] == 'Bob':\n",
    "        sum += 10\n",
    "print(sum)"
   ]
  },
  {
   "cell_type": "code",
   "execution_count": null,
   "metadata": {},
   "outputs": [],
   "source": [
    " names1[:]"
   ]
  },
  {
   "cell_type": "code",
   "execution_count": null,
   "metadata": {},
   "outputs": [],
   "source": []
  },
  {
   "cell_type": "code",
   "execution_count": null,
   "metadata": {},
   "outputs": [],
   "source": [
    "# wrp find the avg number in a list \n",
    "\n",
    "a=[1,2,4,6,7]\n",
    "\n",
    "#1. element ka sum\n",
    "#2.element me bhag dena (element ki len se) \n"
   ]
  },
  {
   "cell_type": "code",
   "execution_count": 9,
   "metadata": {},
   "outputs": [
    {
     "ename": "TypeError",
     "evalue": "'int' object is not subscriptable",
     "output_type": "error",
     "traceback": [
      "\u001b[0;31m---------------------------------------------------------------------------\u001b[0m",
      "\u001b[0;31mTypeError\u001b[0m                                 Traceback (most recent call last)",
      "\u001b[0;32m<ipython-input-9-1b5f41684982>\u001b[0m in \u001b[0;36m<module>\u001b[0;34m\u001b[0m\n\u001b[0;32m----> 1\u001b[0;31m \u001b[0malist\u001b[0m\u001b[0;34m=\u001b[0m\u001b[0ma\u001b[0m\u001b[0;34m[\u001b[0m\u001b[0;36m0\u001b[0m\u001b[0;34m]\u001b[0m\u001b[0;34m+\u001b[0m\u001b[0ma\u001b[0m\u001b[0;34m[\u001b[0m\u001b[0;36m1\u001b[0m\u001b[0;34m]\u001b[0m\u001b[0;34m+\u001b[0m\u001b[0ma\u001b[0m\u001b[0;34m[\u001b[0m\u001b[0;36m2\u001b[0m\u001b[0;34m]\u001b[0m\u001b[0;34m+\u001b[0m\u001b[0ma\u001b[0m\u001b[0;34m[\u001b[0m\u001b[0;36m3\u001b[0m\u001b[0;34m]\u001b[0m\u001b[0;34m+\u001b[0m\u001b[0ma\u001b[0m\u001b[0;34m[\u001b[0m\u001b[0;36m4\u001b[0m\u001b[0;34m]\u001b[0m\u001b[0;34m\u001b[0m\u001b[0;34m\u001b[0m\u001b[0m\n\u001b[0m",
      "\u001b[0;31mTypeError\u001b[0m: 'int' object is not subscriptable"
     ]
    }
   ],
   "source": [
    "alist=a[0]+a[1]+a[2]+a[3]+a[4]"
   ]
  },
  {
   "cell_type": "code",
   "execution_count": null,
   "metadata": {},
   "outputs": [],
   "source": [
    "alist"
   ]
  },
  {
   "cell_type": "code",
   "execution_count": null,
   "metadata": {},
   "outputs": [],
   "source": [
    "a1=[1,2]\n",
    "\n",
    "sum1=0\n",
    "\n",
    "for i in range(len(a1)):\n",
    "    sum1=a1[i]+sum1\n",
    "    \n",
    " \n",
    "    \n",
    "print(sum1/len(a1)) # accurate answer / float me\n"
   ]
  },
  {
   "cell_type": "code",
   "execution_count": null,
   "metadata": {},
   "outputs": [],
   "source": [
    "# reverse of stringlen\n",
    "rev=\"swati\"\n",
    "rev[::-1]"
   ]
  },
  {
   "cell_type": "code",
   "execution_count": null,
   "metadata": {},
   "outputs": [],
   "source": []
  },
  {
   "cell_type": "code",
   "execution_count": 3,
   "metadata": {},
   "outputs": [],
   "source": [
    "all=[2,4,3,5,6,7,8,9]\n",
    "\n",
    "odd=[]\n",
    "even=[]\n",
    "for i in all:\n",
    "    if (i%2==0):\n",
    "        even.append(i)\n",
    "        \n",
    "    else:\n",
    "        odd.append(i)\n",
    "        \n",
    "\n",
    "        \n",
    "        "
   ]
  },
  {
   "cell_type": "code",
   "execution_count": null,
   "metadata": {},
   "outputs": [],
   "source": [
    "even\n"
   ]
  },
  {
   "cell_type": "code",
   "execution_count": null,
   "metadata": {},
   "outputs": [],
   "source": [
    "odd"
   ]
  },
  {
   "cell_type": "markdown",
   "metadata": {},
   "source": [
    "# reverse number "
   ]
  },
  {
   "cell_type": "code",
   "execution_count": null,
   "metadata": {},
   "outputs": [],
   "source": [
    "num=143\n",
    "rev=0\n",
    "while(num>0):\n",
    "    dig=num%10\n",
    "    rev=rev*10+dig\n",
    "    num=num//10\n",
    "print(rev)\n",
    "        "
   ]
  },
  {
   "cell_type": "code",
   "execution_count": null,
   "metadata": {},
   "outputs": [],
   "source": [
    "revnum=8976\n",
    "revstr=0\n",
    "while(revnum>0):\n",
    "    digit=revnum%10\n",
    "    revstr=revstr*10+digit\n",
    "    revnum=revnum//10\n",
    "print(revstr)"
   ]
  },
  {
   "cell_type": "code",
   "execution_count": null,
   "metadata": {},
   "outputs": [],
   "source": []
  },
  {
   "cell_type": "code",
   "execution_count": null,
   "metadata": {},
   "outputs": [],
   "source": [
    "num=147\n",
    "rev=0\n",
    "while(num>0):\n",
    "    digi=num%10\n",
    "    rev=rev*10+digi\n",
    "    num=num//10\n",
    "print(rev)"
   ]
  },
  {
   "cell_type": "code",
   "execution_count": null,
   "metadata": {},
   "outputs": [],
   "source": [
    "143%10"
   ]
  },
  {
   "cell_type": "code",
   "execution_count": 2,
   "metadata": {},
   "outputs": [
    {
     "name": "stdout",
     "output_type": "stream",
     "text": [
      "19\n"
     ]
    }
   ],
   "source": [
    "# wap of sum of integer number\n",
    "varnum=12367\n",
    "\n",
    "sumvar=0\n",
    "while(varnum>0):\n",
    "    digit=varnum%10\n",
    "    sumvar=sumvar+digit\n",
    "    varnum=varnum//10\n",
    "print(sumvar)\n",
    "    "
   ]
  },
  {
   "cell_type": "code",
   "execution_count": 8,
   "metadata": {},
   "outputs": [
    {
     "name": "stdout",
     "output_type": "stream",
     "text": [
      "19\n"
     ]
    }
   ],
   "source": [
    "varnum=12367\n",
    "sumvar=0\n",
    "while(varnum>0):\n",
    "    digit=varnum%10\n",
    "    sumvar=sumvar+digit\n",
    "    varnum=varnum//10\n",
    "print(sumvar)"
   ]
  },
  {
   "cell_type": "code",
   "execution_count": 2,
   "metadata": {},
   "outputs": [
    {
     "name": "stdout",
     "output_type": "stream",
     "text": [
      "enter the number here121\n",
      "number is paliandrom\n"
     ]
    }
   ],
   "source": [
    "# number is palidrom\n",
    "\n",
    "num=int(input(\"enter the number here\"))\n",
    "\n",
    "palnum=0\n",
    "temp=num\n",
    "\n",
    "while(num>0):\n",
    "    digit=num%10\n",
    "    palnum=palnum*10+digit\n",
    "    num=num//10\n",
    "if(temp==palnum):\n",
    "    print(\"number is paliandrom\")\n",
    "else:\n",
    "    print(\"number is not paliandrom\")"
   ]
  },
  {
   "cell_type": "code",
   "execution_count": null,
   "metadata": {},
   "outputs": [],
   "source": [
    "num=int(input(\"enter the number here\"))\n",
    "\n",
    "palnum=0\n",
    "temp=num\n",
    "\n",
    "while(num>0):\n",
    "    digit=num%10\n",
    "    palnum=palnum*10+digit\n",
    "    num=num//10\n",
    "if(temp==palnum):\n",
    "    print(\"number is paliandrom\")\n",
    "else:\n",
    "    print(\"num is not\")"
   ]
  },
  {
   "cell_type": "code",
   "execution_count": 4,
   "metadata": {},
   "outputs": [
    {
     "name": "stdout",
     "output_type": "stream",
     "text": [
      "5\n"
     ]
    }
   ],
   "source": [
    "# wap to count the number of digit in a number?\n",
    "number=12345\n",
    "count=0\n",
    "\n",
    "while(number>0):\n",
    "    \n",
    "    count=count+1\n",
    "    number=number//10\n",
    "print(count)"
   ]
  },
  {
   "cell_type": "code",
   "execution_count": null,
   "metadata": {},
   "outputs": [],
   "source": [
    "# table print \n",
    "\n",
    "\n",
    "tablenum=int(input(\"enter the number here :\"))\n",
    "for i in range(1,11):\n",
    "    print(\"table of tablenum:\",tablenum*i)"
   ]
  },
  {
   "cell_type": "code",
   "execution_count": null,
   "metadata": {},
   "outputs": [],
   "source": [
    "# prime number...\n",
    "\n",
    "num=int(input(\"enter the number : \"))\n",
    "\n",
    "if(num>1):\n",
    "    \n",
    "    for i in range(2,num):\n",
    "        if(num%i==0):\n",
    "            print(\"number is not prime\",num)\n",
    "            break\n",
    "            \n",
    "    if(i == num-1):\n",
    "        print(\"prime number is :\",num)\n",
    "        \n",
    "else:\n",
    "    print(num,\"num is not a prime number ...bhgjhgh\")\n",
    "    \n",
    "    \n",
    "\n"
   ]
  },
  {
   "cell_type": "code",
   "execution_count": null,
   "metadata": {},
   "outputs": [],
   "source": [
    "num=99\n",
    "if num>1:\n",
    "    \n",
    "    for i in range(2,100):\n",
    "        if num%i==0:\n",
    "            print(\"number is not prime\",num)\n",
    "            break\n",
    "            \n",
    "    if i==num-1:\n",
    "        print(\"number is prime\",num)\n",
    "else:\n",
    "    print(\"not prime\")\n",
    "    "
   ]
  },
  {
   "cell_type": "code",
   "execution_count": null,
   "metadata": {},
   "outputs": [],
   "source": [
    "\n",
    "num= int(input(\"enter the number\"))\n",
    "if (num>1):\n",
    "    for i in range(2,num):\n",
    "        if(num%i==0):\n",
    "            print(\"number is not prime\",num)\n",
    "            break\n",
    "    if(i==num-1):\n",
    "        print(\"prime number is \",num)\n",
    "else:\n",
    "    print(\"not prime number\")"
   ]
  },
  {
   "cell_type": "code",
   "execution_count": null,
   "metadata": {},
   "outputs": [],
   "source": [
    "# prime number...of 1 to 100 \n",
    "\n",
    "primelist=[]    \n",
    "#for num in range(2,100):\n",
    "\n",
    "    if(num>1):\n",
    "    \n",
    "        for i in range(2,num):\n",
    "            if(num%i==0):\n",
    "                \n",
    "                 #print(\"number is not prime\",num)\n",
    "                break\n",
    "            \n",
    "            if(i == num-1):\n",
    "                primelist.append(num)\n",
    "                \n",
    "                #print(\"prime number is :\",primelist)\n",
    "        \n",
    "else:\n",
    "    print(num,\"num is not a prime number ...bhgjhgh\")\n",
    "        \n",
    "\n",
    "    \n",
    "    \n",
    "\n"
   ]
  },
  {
   "cell_type": "code",
   "execution_count": 6,
   "metadata": {},
   "outputs": [
    {
     "ename": "NameError",
     "evalue": "name 'primelist' is not defined",
     "output_type": "error",
     "traceback": [
      "\u001b[0;31m---------------------------------------------------------------------------\u001b[0m",
      "\u001b[0;31mNameError\u001b[0m                                 Traceback (most recent call last)",
      "\u001b[0;32m<ipython-input-6-e3ec04dbf5b0>\u001b[0m in \u001b[0;36m<module>\u001b[0;34m\u001b[0m\n\u001b[0;32m----> 1\u001b[0;31m \u001b[0mprimelist\u001b[0m\u001b[0;34m\u001b[0m\u001b[0;34m\u001b[0m\u001b[0m\n\u001b[0m",
      "\u001b[0;31mNameError\u001b[0m: name 'primelist' is not defined"
     ]
    }
   ],
   "source": [
    "primelist"
   ]
  },
  {
   "cell_type": "code",
   "execution_count": 7,
   "metadata": {},
   "outputs": [
    {
     "name": "stdout",
     "output_type": "stream",
     "text": [
      "number is armstrong 371\n"
     ]
    }
   ],
   "source": [
    "# Armstrong number .....\n",
    "\n",
    "num=371\n",
    "armvar=0\n",
    "temp=num\n",
    "\n",
    "while(num>0):\n",
    "    digi= num%10\n",
    "    armvar=armvar+digi**3\n",
    "    \n",
    "    num=num//10\n",
    "    \n",
    "if(temp==armvar):\n",
    "    print(\"number is armstrong\",armvar)\n",
    "else:\n",
    "    print(\"not a armstrong number\",armvar)\n",
    "    "
   ]
  },
  {
   "cell_type": "code",
   "execution_count": null,
   "metadata": {},
   "outputs": [],
   "source": []
  },
  {
   "cell_type": "code",
   "execution_count": null,
   "metadata": {},
   "outputs": [],
   "source": [
    "# Write a Python Program to Find the Second Largest Number in a List?\n",
    "\n",
    "li=[2,3,56,78,45]\n",
    "larg=sorted(li)\n",
    "print(larg[-2])\n",
    "\n"
   ]
  },
  {
   "cell_type": "code",
   "execution_count": 6,
   "metadata": {},
   "outputs": [
    {
     "name": "stdout",
     "output_type": "stream",
     "text": [
      "enter the number6\n",
      "num  <class 'int'>\n",
      "1\n",
      "3\n",
      "6\n",
      "number is perfact\n",
      "number is perfact\n",
      "number is perfact\n"
     ]
    }
   ],
   "source": [
    "# what is a perfact number \n",
    "\n",
    "num= int(input(\"enter the number\"))\n",
    "sum1=0\n",
    "is_perfact=False\n",
    "print(\"num \",type(num))\n",
    "\n",
    "for i in range(1,num):\n",
    "    \n",
    "    if(num%i==0):\n",
    "        sum1=sum1+i\n",
    "        print(sum1)\n",
    "    if(sum1==num):\n",
    "        print(\"number is perfact\")\n",
    "        is_perfact=True\n",
    "        \n",
    "\n",
    "    "
   ]
  },
  {
   "cell_type": "code",
   "execution_count": 5,
   "metadata": {},
   "outputs": [
    {
     "name": "stdout",
     "output_type": "stream",
     "text": [
      "not perfact\n"
     ]
    }
   ],
   "source": [
    "if is_perfact:\n",
    "    print(\"Thsi is pefaect\")\n",
    "else:\n",
    "    print(\"not perfact\")"
   ]
  },
  {
   "cell_type": "code",
   "execution_count": 8,
   "metadata": {},
   "outputs": [
    {
     "name": "stdout",
     "output_type": "stream",
     "text": [
      "120\n"
     ]
    }
   ],
   "source": [
    "# Factorial number...\n",
    "\n",
    "def factorial(num):\n",
    "    \n",
    "    fact=1\n",
    "    for i in range(1,num+1):\n",
    "        fact=fact*i\n",
    " \n",
    "    return fact\n",
    "\n",
    "factnum=factorial(5)\n",
    "print(factnum)\n",
    "        "
   ]
  },
  {
   "cell_type": "code",
   "execution_count": 9,
   "metadata": {},
   "outputs": [
    {
     "data": {
      "text/plain": [
       "120"
      ]
     },
     "execution_count": 9,
     "metadata": {},
     "output_type": "execute_result"
    }
   ],
   "source": [
    "factorial(5)"
   ]
  },
  {
   "cell_type": "code",
   "execution_count": 10,
   "metadata": {},
   "outputs": [
    {
     "name": "stdout",
     "output_type": "stream",
     "text": [
      "120\n",
      "24\n",
      "1\n",
      "145\n"
     ]
    }
   ],
   "source": [
    "# strong number\n",
    "\n",
    "num=145\n",
    "strgnum=0\n",
    "\n",
    "while(num>0):\n",
    "    digit=num%10\n",
    "    fact=factorial(digit)\n",
    "    print(fact)\n",
    "    strgnum=strgnum+fact\n",
    "    num=num//10\n",
    "    \n",
    "print(strgnum)\n",
    "if(num==strgnum):\n",
    "    print(\"factorial number\")\n",
    "    \n",
    " \n",
    "    \n",
    "    \n",
    "    \n"
   ]
  },
  {
   "cell_type": "markdown",
   "metadata": {},
   "source": [
    "# data-structures "
   ]
  },
  {
   "cell_type": "code",
   "execution_count": null,
   "metadata": {},
   "outputs": [],
   "source": [
    "# Linear search \n",
    "\n",
    "def linearsearch(list,n):\n",
    "    \n",
    "    list=[3,4,2,6,7,8,9]\n",
    "    n=6\n",
    "\n",
    "for i in len(list):\n",
    "    if(i==n):\n",
    "        \n",
    "        return True\n",
    "    else:\n",
    "        return False"
   ]
  },
  {
   "cell_type": "code",
   "execution_count": null,
   "metadata": {},
   "outputs": [],
   "source": [
    "\n",
    "def search(list1,n):\n",
    "\n",
    "    for i in list1:\n",
    "        print(i,n)\n",
    "        if(i==n):\n",
    "            print(\"found: \",i,n)\n",
    "            return True\n",
    "    return False\n",
    "  \n",
    "        \n",
    "\n",
    "list1=[4,5,8,7,9]\n",
    "n=6\n",
    "liner=search(list1,n)\n",
    "print(liner)\n",
    "    "
   ]
  },
  {
   "cell_type": "code",
   "execution_count": null,
   "metadata": {},
   "outputs": [],
   "source": [
    "list2=[1,4,5,6]\n",
    "n=3\n",
    "result=search(list2,n)\n",
    "print(result)"
   ]
  },
  {
   "cell_type": "code",
   "execution_count": null,
   "metadata": {},
   "outputs": [],
   "source": [
    "# for index getting\n",
    "\n",
    "def search(list1,n):\n",
    "\n",
    "    for i in range(len(list1)):\n",
    "        print(i,n,list1[i])\n",
    "        if(list1[i]==n):\n",
    "            print(\"found: \",i,n)\n",
    "            return True\n",
    "    return False\n",
    "  \n",
    "        \n",
    "\n",
    "list1=[4,5,8,7,9]\n",
    "n=6\n",
    "liner=search(list1,n)\n",
    "print(liner)\n",
    "    "
   ]
  },
  {
   "cell_type": "markdown",
   "metadata": {},
   "source": [
    "# binary search"
   ]
  },
  {
   "cell_type": "markdown",
   "metadata": {},
   "source": [
    "# decorator"
   ]
  },
  {
   "cell_type": "code",
   "execution_count": 30,
   "metadata": {},
   "outputs": [
    {
     "name": "stdout",
     "output_type": "stream",
     "text": [
      "1 before execution\n",
      "2 inside the function\n",
      "sum =  10\n"
     ]
    }
   ],
   "source": [
    "# decorator  :- decorator is a function that decorate a function and takes as argumnent and change the functionality of a function \n",
    "\n",
    "\n",
    "def hello_decorator(func):\n",
    "    def inner1(*args,**kwargs):\n",
    "        print(\"1 before execution\")\n",
    "\n",
    "        returned_value= func(*args ,**kwargs)\n",
    "        return returned_value\n",
    "    return inner1\n",
    "\n",
    "@hello_decorator\n",
    "def sum_two_numbers(a,b,c=7):\n",
    "    print(\"2 inside the function\")\n",
    "    return a + b+c\n",
    "\n",
    "a, b ,c= 1, 2,8\n",
    "print(\"sum = \", sum_two_numbers(a,b,c=7))"
   ]
  },
  {
   "cell_type": "code",
   "execution_count": 32,
   "metadata": {},
   "outputs": [
    {
     "ename": "IndentationError",
     "evalue": "unindent does not match any outer indentation level (<tokenize>, line 6)",
     "output_type": "error",
     "traceback": [
      "\u001b[0;36m  File \u001b[0;32m\"<tokenize>\"\u001b[0;36m, line \u001b[0;32m6\u001b[0m\n\u001b[0;31m    return inner1\u001b[0m\n\u001b[0m    ^\u001b[0m\n\u001b[0;31mIndentationError\u001b[0m\u001b[0;31m:\u001b[0m unindent does not match any outer indentation level\n"
     ]
    }
   ],
   "source": [
    "def hello_decorator(func):\n",
    "    def inner1(*args,**kwargs):\n",
    "        print(\"1\")\n",
    "        returned_value=func(*args,**kwargs)\n",
    "        return returned_value\n",
    "     return inner1\n",
    "\n",
    "@hello_decorator\n",
    "def sum_two_numbers(a,b,c):\n",
    "    print(\"2\")\n",
    "    return a+b+c\n",
    "\n",
    "a,b,c=1,2,3\n",
    "print(\"sum = \",sum_two_numbers(a,b,c))"
   ]
  },
  {
   "cell_type": "markdown",
   "metadata": {},
   "source": [
    "# genrator"
   ]
  },
  {
   "cell_type": "code",
   "execution_count": null,
   "metadata": {},
   "outputs": [],
   "source": [
    "# generator :- genrator is function return a object ,and itrate only once ,its run on the fly ,not store the value in  memory\n",
    "\n",
    "def generator():\n",
    "    data_list=[2,3,4,5,6,6]\n",
    "    \n",
    "    for data in data_list:\n",
    "        yield data\n",
    "        \n",
    "g= generator()\n",
    "next(g)\n",
    "        \n",
    "        \n"
   ]
  },
  {
   "cell_type": "code",
   "execution_count": null,
   "metadata": {},
   "outputs": [],
   "source": [
    " next(g)\n"
   ]
  },
  {
   "cell_type": "markdown",
   "metadata": {},
   "source": [
    "# Multithreading/ future concurrent "
   ]
  },
  {
   "cell_type": "code",
   "execution_count": null,
   "metadata": {},
   "outputs": [],
   "source": [
    "from concurrent import futures\n",
    "import threading\n",
    "import time\n",
    "\n",
    "\n",
    "def task(n):\n",
    "    print('{}: sleeping {}'.format(\n",
    "        threading.current_thread().name,\n",
    "        n)\n",
    "    )\n",
    "    time.sleep(n / 10)\n",
    "    print('{}: done with {}'.format(\n",
    "        threading.current_thread().name,\n",
    "        n)\n",
    "    )\n",
    "    return n / 10\n",
    "\n",
    "\n",
    "ex = futures.ThreadPoolExecutor(max_workers=2)\n",
    "print('main: starting')\n",
    "results = ex.map(task, range(5, 0, -1))\n",
    "print('main: unprocessed results {}'.format(results))\n",
    "print('main: waiting for real results')\n",
    "real_results = list(results)\n",
    "print('main: results: {}'.format(real_results))"
   ]
  },
  {
   "cell_type": "code",
   "execution_count": null,
   "metadata": {},
   "outputs": [],
   "source": [
    "for i in range(5, 0,-1):\n",
    "    print(i)"
   ]
  },
  {
   "cell_type": "code",
   "execution_count": null,
   "metadata": {},
   "outputs": [],
   "source": [
    "# wait\n",
    "from concurrent import futures\n",
    "import threading\n",
    "import time\n",
    "\n",
    "\n",
    "def task(n):\n",
    "    print('{}: sleeping {}'.format(\n",
    "        threading.current_thread().name,\n",
    "        n)\n",
    "    )\n",
    "    time.sleep(n / 10)\n",
    "    print('{}: done with {}'.format(\n",
    "        threading.current_thread().name,\n",
    "        n)\n",
    "    )\n",
    "    return n / 10\n",
    "\n",
    "\n",
    "ex = futures.ThreadPoolExecutor(max_workers=2)\n",
    "print('main: starting')\n",
    "f = ex.submit(task, 5)\n",
    "print('main: future: {}'.format(f))\n",
    "print('main: waiting for results')\n",
    "result = f.result()\n",
    "print('main: result: {}'.format(result))\n",
    "print('main: future after result: {}'.format(f))"
   ]
  },
  {
   "cell_type": "code",
   "execution_count": null,
   "metadata": {},
   "outputs": [],
   "source": [
    "from concurrent import futures\n",
    "import random\n",
    "import time\n",
    "\n",
    "\n",
    "def task(n):\n",
    "    time.sleep(random.random())\n",
    "    return (n, n / 10)\n",
    "\n",
    "\n",
    "ex = futures.ThreadPoolExecutor(max_workers=5)\n",
    "print('main: starting')\n",
    "\n",
    "wait_for = [\n",
    "    ex.submit(task, i)\n",
    "    for i in range(5, 0, -1)\n",
    "]\n",
    "\n",
    "for f in futures.as_completed(wait_for):\n",
    "    print('main: result: {}'.format(f.result()))"
   ]
  },
  {
   "cell_type": "code",
   "execution_count": null,
   "metadata": {},
   "outputs": [],
   "source": [
    "dict={\"key\":\"value\"}"
   ]
  },
  {
   "cell_type": "code",
   "execution_count": null,
   "metadata": {},
   "outputs": [],
   "source": [
    "type(dict)"
   ]
  },
  {
   "cell_type": "markdown",
   "metadata": {},
   "source": [
    "# Linked list"
   ]
  },
  {
   "cell_type": "code",
   "execution_count": null,
   "metadata": {},
   "outputs": [],
   "source": [
    "class Node:\n",
    "    def __init__(self, dataval=None):\n",
    "        self.dataval = dataval\n",
    "        self.nextval = None\n",
    "\n",
    "class SLinkedList:\n",
    "    def __init__(self):\n",
    "        self.headval = None\n",
    "\n",
    "list1 = SLinkedList()\n",
    "list1.headval = Node(\"Mon\")\n",
    "e2 = Node(\"Tue\")\n",
    "e3 = Node(\"Wed\")\n",
    "# Link first Node to second node\n",
    "list1.headval.nextval = e2\n",
    "\n",
    "# Link second Node to third node\n",
    "e2.nextval = e3"
   ]
  },
  {
   "cell_type": "code",
   "execution_count": null,
   "metadata": {},
   "outputs": [],
   "source": [
    "class Node:\n",
    "    def__init__(self,dataval=None):\n",
    "        self.dataval = dataval\n",
    "        self.nextval\n",
    "        "
   ]
  }
 ],
 "metadata": {
  "kernelspec": {
   "display_name": "Python 3",
   "language": "python",
   "name": "python3"
  },
  "language_info": {
   "codemirror_mode": {
    "name": "ipython",
    "version": 3
   },
   "file_extension": ".py",
   "mimetype": "text/x-python",
   "name": "python",
   "nbconvert_exporter": "python",
   "pygments_lexer": "ipython3",
   "version": "3.6.10"
  }
 },
 "nbformat": 4,
 "nbformat_minor": 4
}
