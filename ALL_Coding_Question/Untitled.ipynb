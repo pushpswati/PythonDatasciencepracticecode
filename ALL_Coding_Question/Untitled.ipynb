{
 "cells": [
  {
   "cell_type": "code",
   "execution_count": 13,
   "metadata": {},
   "outputs": [
    {
     "data": {
      "text/plain": [
       "120"
      ]
     },
     "execution_count": 13,
     "metadata": {},
     "output_type": "execute_result"
    }
   ],
   "source": [
    "# method overiding\n",
    "class Car():\n",
    "    def price(base_price):\n",
    "        return base_price*2\n",
    "    \n",
    "class Maruti(Car):\n",
    "    def __init__ (self):\n",
    "        pass\n",
    "    def price(self,base_price):\n",
    "        p=base_price*4\n",
    "        return p\n",
    "    \n",
    "mobj=Maruti()\n",
    "mobj.price(30)"
   ]
  },
  {
   "cell_type": "code",
   "execution_count": 22,
   "metadata": {},
   "outputs": [
    {
     "name": "stdin",
     "output_type": "stream",
     "text": [
      "enter the number 23\n"
     ]
    }
   ],
   "source": [
    "class Prime:\n",
    "\n",
    "    def primenum(self,pnum):\n",
    "        \n",
    "        if(pnum>1):\n",
    "            for i in range(2,pnum):\n",
    "                if(pnum%i==0):\n",
    "                    print(\"number is not prime\",pnum)\n",
    "                break\n",
    "                \n",
    "            if (i==pnum-1):\n",
    "                print(\"number is  prime\",pnum)\n",
    "        else:\n",
    "            print(\"negative_index_not allowed\")\n",
    "            \n",
    "pnum=int(input(\"enter the number\"))\n",
    "objPrime=Prime()\n",
    "objPrime.primenum(pnum)\n",
    "                \n",
    "        \n",
    "        "
   ]
  },
  {
   "cell_type": "code",
   "execution_count": 24,
   "metadata": {},
   "outputs": [
    {
     "name": "stdin",
     "output_type": "stream",
     "text": [
      "enter the number -3\n"
     ]
    },
    {
     "name": "stdout",
     "output_type": "stream",
     "text": [
      "number is not less then 0 or negative\n"
     ]
    },
    {
     "data": {
      "text/plain": [
       "-3"
      ]
     },
     "execution_count": 24,
     "metadata": {},
     "output_type": "execute_result"
    }
   ],
   "source": [
    "# prime number\n",
    "class Prime:\n",
    "    def pm(self,pnum):\n",
    "        \n",
    "        if(pnum>1):\n",
    "            for i in range(2,pnum):\n",
    "                if(pnum%i==0):\n",
    "                    print(\"number is not prime\",pnum) \n",
    "                    break\n",
    "                \n",
    "            if(i==pnum-1):\n",
    "                print(\"number is prime \",pnum)\n",
    "        else:\n",
    "            print(\"number is not less then 0 or negative\")\n",
    "        return pnum       \n",
    "       \n",
    "pnum=int(input(\"enter the number\"))\n",
    "\n",
    "objprime=Prime()\n",
    "objprime.pm(pnum)\n",
    "            "
   ]
  },
  {
   "cell_type": "code",
   "execution_count": 25,
   "metadata": {},
   "outputs": [
    {
     "name": "stdout",
     "output_type": "stream",
     "text": [
      "1\n",
      "2\n",
      "6\n",
      "24\n",
      "120\n"
     ]
    }
   ],
   "source": [
    "fact=5\n",
    "\n",
    "if (fact>1):\n",
    "    factnum=1\n",
    "    for i in range(1,fact+1):\n",
    "        factnum=factnum*i\n",
    "        print(factnum)\n",
    "        \n",
    "    "
   ]
  },
  {
   "cell_type": "code",
   "execution_count": 30,
   "metadata": {},
   "outputs": [
    {
     "name": "stdout",
     "output_type": "stream",
     "text": [
      "Decorated\n",
      "Old\n",
      "sum :- None\n"
     ]
    }
   ],
   "source": [
    "def mk(x):\n",
    "    def mk1():\n",
    "        print(\"Decorated\")\n",
    "        x()\n",
    "    return mk1\n",
    "@mk\n",
    "def mk2():\n",
    "    print(\"Old\")\n",
    "    \n",
    "obj=mk(mk2)\n",
    "print(\"sum :-\",mk2())\n"
   ]
  },
  {
   "cell_type": "code",
   "execution_count": 39,
   "metadata": {},
   "outputs": [
    {
     "name": "stdout",
     "output_type": "stream",
     "text": [
      "odd list [1, 3, 5, 7, 55] even [2, 4, 6, 8, 10, 4, 66]\n"
     ]
    }
   ],
   "source": [
    "lis=[1,2,3,4,5,6,7,8,10,4,55,66]\n",
    "even=[]\n",
    "odd=[]\n",
    "for i in lis:\n",
    "    if (i%2==0):\n",
    "        \n",
    "        even.append(i)\n",
    "        \n",
    "        \n",
    "        \n",
    "    else:\n",
    "        odd.append(i)\n",
    "print(\"odd list\",odd,\"even\",even)\n",
    "        "
   ]
  },
  {
   "cell_type": "code",
   "execution_count": 41,
   "metadata": {},
   "outputs": [],
   "source": [
    "lis.sort()"
   ]
  },
  {
   "cell_type": "code",
   "execution_count": 42,
   "metadata": {},
   "outputs": [
    {
     "name": "stdout",
     "output_type": "stream",
     "text": [
      "[1, 2, 3, 4, 4, 5, 6, 7, 8, 10, 55, 66]\n"
     ]
    }
   ],
   "source": [
    "print(lis)"
   ]
  },
  {
   "cell_type": "code",
   "execution_count": null,
   "metadata": {},
   "outputs": [],
   "source": []
  }
 ],
 "metadata": {
  "kernelspec": {
   "display_name": "Python 3",
   "language": "python",
   "name": "python3"
  },
  "language_info": {
   "codemirror_mode": {
    "name": "ipython",
    "version": 3
   },
   "file_extension": ".py",
   "mimetype": "text/x-python",
   "name": "python",
   "nbconvert_exporter": "python",
   "pygments_lexer": "ipython3",
   "version": "3.6.10"
  }
 },
 "nbformat": 4,
 "nbformat_minor": 4
}
