{
 "cells": [
  {
   "cell_type": "code",
   "execution_count": 13,
   "metadata": {},
   "outputs": [
    {
     "name": "stdout",
     "output_type": "stream",
     "text": [
      "<class 'dict'>\n"
     ]
    }
   ],
   "source": [
    "def demo(**x):\n",
    "    print(type(x))\n",
    "    \n",
    "demo(q=2,e=4)"
   ]
  },
  {
   "cell_type": "code",
   "execution_count": 3,
   "metadata": {},
   "outputs": [
    {
     "data": {
      "text/plain": [
       "True"
      ]
     },
     "execution_count": 3,
     "metadata": {},
     "output_type": "execute_result"
    }
   ],
   "source": [
    "a=10\n",
    "b=10\n",
    "a==b\n"
   ]
  },
  {
   "cell_type": "code",
   "execution_count": 4,
   "metadata": {},
   "outputs": [
    {
     "data": {
      "text/plain": [
       "True"
      ]
     },
     "execution_count": 4,
     "metadata": {},
     "output_type": "execute_result"
    }
   ],
   "source": [
    "a is b"
   ]
  },
  {
   "cell_type": "code",
   "execution_count": 11,
   "metadata": {},
   "outputs": [
    {
     "data": {
      "text/plain": [
       "['docker_django',\n",
       " 'Django_famwork_book.ipynb',\n",
       " 'Untitled5.ipynb',\n",
       " 'pandas_python.ipynb',\n",
       " 'Interview_Questions_top 50',\n",
       " 'dataset',\n",
       " 'paycraft_company_interview.ipynb',\n",
       " 'Macfee Interview Question Prepration.ipynb',\n",
       " 'google drive.ipynb',\n",
       " 'Untitled2.ipynb',\n",
       " 'Authordjangoproject',\n",
       " 'Interview_programming_practice.ipynb',\n",
       " 'coldCompany.xlsx',\n",
       " 'Flask_db_connection.ipynb',\n",
       " 'brickset-scraper',\n",
       " 'Data_structure(dict,tuple,set,list).ipynb',\n",
       " 'Docker_Project',\n",
       " 'Document of tuple dict or set.ipynb',\n",
       " '.ipynb_checkpoints',\n",
       " 'For loop practice.ipynb',\n",
       " 'myFile.txt',\n",
       " 'Untitled.ipynb',\n",
       " 'emp.txt',\n",
       " 'Imported  url link',\n",
       " '.gitignore',\n",
       " 'OOPs fundamentals.ipynb',\n",
       " 'Linked_list .ipynb',\n",
       " 'micro_services_flask',\n",
       " '.git',\n",
       " 'README.md',\n",
       " 'Data_science',\n",
       " 'bajrangbali',\n",
       " 'learning',\n",
       " 'Untitled4.ipynb',\n",
       " 'basicProgram_python.ipynb',\n",
       " 'Untitled3.ipynb',\n",
       " 'keyword_argumentreexpression.ipynb',\n",
       " 'Untitled1.ipynb',\n",
       " 'myname.txt']"
      ]
     },
     "execution_count": 11,
     "metadata": {},
     "output_type": "execute_result"
    }
   ],
   "source": [
    "#wap display all the folders and files in the current dir\n",
    "\n",
    "import os\n",
    "os.listdir()\n",
    "\n",
    "\n"
   ]
  },
  {
   "cell_type": "code",
   "execution_count": 6,
   "metadata": {},
   "outputs": [
    {
     "name": "stdout",
     "output_type": "stream",
     "text": [
      " Authordjangoproject\n",
      " bajrangbali\n",
      " basicProgram_python.ipynb\n",
      " brickset-scraper\n",
      " coldCompany.xlsx\n",
      " Data_science\n",
      " dataset\n",
      "'Data_structure(dict,tuple,set,list).ipynb'\n",
      " Django_famwork_book.ipynb\n",
      " docker_django\n",
      " Docker_Project\n",
      "'Document of tuple dict or set.ipynb'\n",
      " emp.txt\n",
      " Flask_db_connection.ipynb\n",
      "'For loop practice.ipynb'\n",
      "'google drive.ipynb'\n",
      "'Imported  url link'\n",
      " Interview_programming_practice.ipynb\n",
      "'Interview_Questions_top 50'\n",
      " keyword_argumentreexpression.ipynb\n",
      " learning\n",
      "'Linked_list .ipynb'\n",
      "'Macfee Interview Question Prepration.ipynb'\n",
      " micro_services_flask\n",
      " myFile.txt\n",
      " myname.txt\n",
      "'OOPs fundamentals.ipynb'\n",
      " pandas_python.ipynb\n",
      " paycraft_company_interview.ipynb\n",
      " README.md\n",
      " Untitled1.ipynb\n",
      " Untitled2.ipynb\n",
      " Untitled3.ipynb\n",
      " Untitled4.ipynb\n",
      " Untitled5.ipynb\n",
      " Untitled.ipynb\n"
     ]
    }
   ],
   "source": [
    "!ls"
   ]
  },
  {
   "cell_type": "code",
   "execution_count": null,
   "metadata": {},
   "outputs": [],
   "source": [
    "class Student\n",
    "    def info(self,name,rollnum):\n",
    "        self.name=name\n",
    "        self.rollnum\n"
   ]
  },
  {
   "cell_type": "code",
   "execution_count": 34,
   "metadata": {},
   "outputs": [
    {
     "name": "stdout",
     "output_type": "stream",
     "text": [
      "5\n",
      "4\n",
      "3\n",
      "2\n",
      "1\n",
      "0\n"
     ]
    },
    {
     "data": {
      "text/plain": [
       "[6, 5, 4, 3, 2, 1, 7, 8, 9, 10]"
      ]
     },
     "execution_count": 34,
     "metadata": {},
     "output_type": "execute_result"
    }
   ],
   "source": [
    "x=[1,2,3,4,5,6,7,8,9,10]\n",
    "rev=[]\n",
    "for i in range(len(x[:5]),-1,-1):\n",
    "    print(i)\n",
    "    rev.append(x[i])\n",
    "rev.extend(x[6:])\n",
    "rev"
   ]
  },
  {
   "cell_type": "code",
   "execution_count": 35,
   "metadata": {},
   "outputs": [
    {
     "name": "stdout",
     "output_type": "stream",
     "text": [
      "5\n",
      "4\n",
      "3\n",
      "2\n",
      "1\n",
      "0\n"
     ]
    },
    {
     "data": {
      "text/plain": [
       "[6, 5, 4, 3, 2, 1, 7, 8, 9, 10]"
      ]
     },
     "execution_count": 35,
     "metadata": {},
     "output_type": "execute_result"
    }
   ],
   "source": [
    "x=[1,2,3,4,5,6,7,8,9,10]\n",
    "rev=[]\n",
    "for i in range(len(x[:5]),-1,-1):\n",
    "    print(i)\n",
    "    rev.append(x[i])\n",
    "for el in x[6:]:\n",
    "    rev.append(el)\n",
    "rev"
   ]
  },
  {
   "cell_type": "code",
   "execution_count": 39,
   "metadata": {},
   "outputs": [
    {
     "data": {
      "text/plain": [
       "[1, 2, 3, 4, 5, 6, 7, 8, 9]"
      ]
     },
     "execution_count": 39,
     "metadata": {},
     "output_type": "execute_result"
    }
   ],
   "source": [
    "x[:]"
   ]
  },
  {
   "cell_type": "code",
   "execution_count": null,
   "metadata": {},
   "outputs": [],
   "source": [
    "# what is the memory managment in python\n",
    "# how to relase memory in python\n",
    "# what is garbasge collection\n",
    "# diffrence between list comprihencen and lambda \n",
    "# what is regulore expression ,? do\n",
    "# what is decorator explain with example\n",
    "# \n",
    "# "
   ]
  },
  {
   "cell_type": "raw",
   "metadata": {},
   "source": [
    "print(r'\\tTab')"
   ]
  },
  {
   "cell_type": "code",
   "execution_count": 2,
   "metadata": {},
   "outputs": [
    {
     "name": "stdout",
     "output_type": "stream",
     "text": [
      "ssa\n"
     ]
    }
   ],
   "source": [
    "print(\"ssa\")"
   ]
  },
  {
   "cell_type": "code",
   "execution_count": null,
   "metadata": {},
   "outputs": [],
   "source": []
  }
 ],
 "metadata": {
  "kernelspec": {
   "display_name": "Python 3",
   "language": "python",
   "name": "python3"
  },
  "language_info": {
   "codemirror_mode": {
    "name": "ipython",
    "version": 3
   },
   "file_extension": ".py",
   "mimetype": "text/x-python",
   "name": "python",
   "nbconvert_exporter": "python",
   "pygments_lexer": "ipython3",
   "version": "3.6.10"
  }
 },
 "nbformat": 4,
 "nbformat_minor": 4
}
