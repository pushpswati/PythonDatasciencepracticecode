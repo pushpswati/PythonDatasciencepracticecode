{
 "cells": [
  {
   "cell_type": "markdown",
   "metadata": {},
   "source": [
    "# JD ..REQURIED "
   ]
  },
  {
   "cell_type": "markdown",
   "metadata": {},
   "source": [
    "\n",
    "Skills - Experience and Requirements\n",
    "\n",
    "You would be considered a great fit for this role if you have the following:\n",
    "\n",
    "# Experience in developing and deploying machine learning systems into production\n",
    "\n",
    "● Proven ability to learn things quickly and stay up to date on breakthroughs in Machine Learning techniques\n",
    "\n",
    "● Ability to quickly prototype new approaches and productionize solutions at scale for millions of active users\n",
    "\n",
    "● Ability to work in a Linux environment\n",
    "\n",
    "# Strong experience with Python\n",
    "\n",
    "# Experience with big data tools and processing technologies such as Apache Spark, Apache Flink, and cloud platforms like GCP or AWS\n",
    "\n",
    "●\n",
    "\n",
    "# You have worked with automated build systems such as Jenkins. A desire to write tools and applications to automate work\n",
    "\n",
    "● Experience implementing Continuous Integration or Continuous Delivery processes in engineering teams\n",
    "\n",
    "# Experience in building containerized solutions using Kubernetes\n",
    "\n",
    "These qualifications would make you stand out among other applicants:\n",
    "\n",
    "● Great communication skills - someone who is passionate about evangelizing the value of advanced data science capabilities.\n",
    "\n",
    "# Experience deploying and maintaining model Microservices\n",
    "\n",
    "# Experience building maintainable data pipelines for deep learning models\n",
    "\n",
    "● Familiarity with data-oriented workflow orchestration frameworks such as Kubeflow, Airflow"
   ]
  },
  {
   "cell_type": "code",
   "execution_count": null,
   "metadata": {},
   "outputs": [],
   "source": []
  },
  {
   "cell_type": "code",
   "execution_count": null,
   "metadata": {},
   "outputs": [],
   "source": []
  },
  {
   "cell_type": "markdown",
   "metadata": {},
   "source": [
    "# i have to prepare this topics "
   ]
  },
  {
   "cell_type": "markdown",
   "metadata": {},
   "source": [
    "# Programming in Python  :\n",
    "# Python...\n",
    "\n",
    "Data types (mutable and immutable) \n",
    "\n",
    "List, Set, and Dictionary Comprehension\n",
    "\n",
    "Generators, Iterators and their implementation\n",
    "\n",
    "Filter, Map and Reduce\n",
    "\n",
    "# OOP: Class, Objects, Static and Class Methods, Properties, Inheritance\n",
    "\n",
    "Context Managers, Decorators and their implementation \n",
    "\n",
    "Memory Management (GIL, Garbage collection)\n",
    "\n",
    "Django/ Flask\n",
    "\n",
    "Request-Response Cycle\n",
    "\n",
    "REST API Architecture and Django Rest Framework\n",
    "\n",
    "Middlewares and its implementation\n",
    "\n",
    "Asynchronous Tasks (Celery)\n",
    "\n",
    "Signal handling\n",
    "\n",
    "ORM querying, including aggregation, annotation, Q objects, F expression\n",
    "\n",
    "Caching\n",
    "\n",
    "Database transactions\n",
    "\n",
    "Authentication Strategies\n",
    "\n",
    "Testing\n",
    "\n",
    "System Design \n",
    "\n",
    "Estimating bandwidth, storage, memory, and compute requirements\n",
    "\n",
    "Handling large traffic - caching, optimizing queries, rate limiting\n",
    "\n",
    "Design patterns for common cases - Interface, Strategy, Factory Method, Decorator"
   ]
  },
  {
   "cell_type": "code",
   "execution_count": null,
   "metadata": {},
   "outputs": [],
   "source": []
  },
  {
   "cell_type": "markdown",
   "metadata": {},
   "source": [
    "# COMPANY ask THIS QUESTIONS..."
   ]
  },
  {
   "cell_type": "markdown",
   "metadata": {},
   "source": [
    "# Requirements -:\n",
    "Needs someone who can productionize Data science (DS) models by understanding & taking the models from client’s DS team\n",
    "# PRODUCTIONIZATION\n",
    "The candidate should also know how a DS model works. How training & validation of a model is done etc.\n",
    "However, # PRODUCTIONIZATION of the models is the key requirement\n",
    "Microservice is a key requirement from the candidate\n",
    "It is a platform engineer role primarily but candidate should know how modeling works\n",
    "Needs to know GO (‘golang’ in colloquial term) language as well as Python\n",
    "\n",
    "General questions asked -:\n",
    "Asked the candidate to explain his production-related experience from his past projects (in details)\n",
    "\n",
    "# Kubernetes\n",
    "Detailed knowledge of Kubernetes is required\n",
    "Questions asked on Kubernetes -:\n",
    "How does Kubernetes work?\n",
    "How to monitor Kubernetes?\n",
    "What is ‘Prometheus’?\n",
    "What are the disadvantages of Kubernetes?\n",
    "How does ‘ingress’ work?\n",
    "What is actually ‘ingress’ from software engineering POV?\n",
    "\n",
    "# Docker\n",
    "Docker related questions -:\n",
    "What is the difference between Docker & Virtual Machine?\n",
    "\n",
    "# PYTHON\n",
    "Python related questions -:\n",
    "They want the candidate to answer questions by coding & showing them the detailed result & approach\n",
    "Asked to write a function for indexing\n",
    "Asked how a loop works in Python\n",
    "Asked about a speedier alternative to looping\n",
    "Asked about the concept of ‘dictionary’\n",
    "Asked the candidate to create a dictionary in a loop\n",
    "Asked in details how Python executes ‘indexing’\n",
    "\n",
    "\n",
    "# Additional -:\n",
    "The candidate should have a laptop with Python IDE (e.g. Jupyter notebook)\n",
    "The client asks to code to solve his problem & share the screen\n",
    "The candidate should be familiar with screen sharing on Google meet\n",
    "They need a person with strong Python coding experience\n",
    "\n",
    "\n",
    "Feedback of the candidate -:\n",
    "Expected better Python coding knowledge\n",
    "\n",
    "\n",
    "# General understanding of client -:\n",
    "    \n",
    "They are from Data analytics COE\n",
    "This COE has 3 groups namely, a) Platform & data engineering (headed by Harish?) – works on AWS data lake, b)\n",
    "Reporting team led by Mohan Rao & c) Data science team led by Amit & Narayan – Both Amit & Narayan were present & asked questions in the interview\n",
    "Nice interviewers – explained the role requirement in details\n",
    "\n",
    "Let us & candidate know that he would go through more profiles & decide after that"
   ]
  },
  {
   "cell_type": "code",
   "execution_count": null,
   "metadata": {},
   "outputs": [],
   "source": []
  },
  {
   "cell_type": "code",
   "execution_count": null,
   "metadata": {},
   "outputs": [],
   "source": []
  }
 ],
 "metadata": {
  "kernelspec": {
   "display_name": "Python 3",
   "language": "python",
   "name": "python3"
  },
  "language_info": {
   "codemirror_mode": {
    "name": "ipython",
    "version": 3
   },
   "file_extension": ".py",
   "mimetype": "text/x-python",
   "name": "python",
   "nbconvert_exporter": "python",
   "pygments_lexer": "ipython3",
   "version": "3.6.10"
  }
 },
 "nbformat": 4,
 "nbformat_minor": 4
}
