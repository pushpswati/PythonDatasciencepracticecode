{
 "cells": [
  {
   "cell_type": "code",
   "execution_count": null,
   "metadata": {},
   "outputs": [],
   "source": [
    "# ocuurncy of string \n",
    "\n",
    "str1=\"bangalore\"\n",
    "str2=\"abcdefghijklmnopqrstuvwxyz\"\n",
    "strdict={}\n",
    "\n",
    "for i in str1:\n",
    "    count=0\n",
    "    for j in str2:\n",
    "        if (i==j):\n",
    "            count+=1\n",
    "            #print(\"occurency happen\")\n",
    "            if i in strdict:\n",
    "                strdict[i]=strdict[i]+1\n",
    "            else:\n",
    "                strdict[i]=1\n",
    "print(strdict,\"ocur\")\n",
    "                "
   ]
  },
  {
   "cell_type": "code",
   "execution_count": null,
   "metadata": {},
   "outputs": [],
   "source": [
    "#Step 3 — Making Django Configurable by Environment Variables\n",
    "One of the most important recommendations from the twelve-factor app methodology is extracting hard-coded config from your application’s codebase. This allows you to easily change the behavior of your application at runtime by modifying environment variables. Docker and Kubernetes both suggest this method of configuring containers, so we will adapt our application’s settings file to use this pattern.\n",
    "\n",
    "The main settings file for our Django project (django-polls/mysite/settings.py) is a Python module that uses native data structures to configure the application. By default, most of the values in the file are hard-coded, meaning that you have to edit the configuration file to change the application behavior. We can use Python’s getenv function in the os module to configure Django to read configuration parameters from local environment variables instead.\n",
    "\n",
    "To do this, we’ll go through settings.py and replace the hard-coded values of each of the variables we want to set at runtime with a call to os.getenv. The os.getenv function reads the value from a provided environment variable name. You can optionally provide a second parameter with a default value that will be used if the environment variable is not set.\n",
    "\n",
    "This allows us to set variables like this:\n",
    "\n",
    "polls-project/django-polls/mysite/settings.py\n",
    ". . .\n",
    "SECRET_KEY = os.getenv('DJANGO_SECRET_KEY')\n",
    ". . .\n",
    "DEBUG = os.getenv('DJANGO_DEBUG', False)\n",
    ". . .\n",
    "For SECRET_KEY, Django will look for an environment variable called DJANGO_SECRET_KEY. Since this shouldn’t be hard-coded and needs to be the same across our application servers, we’ll want to set this externally with no fallback value. We want the application to fail if we do not provide this, since it could lead to problems if various copies of our application use different keys.\n",
    "\n",
    "For DEBUG, Django will look for an environment variable called DJANGO_DEBUG. However, this time, we’ve provided a default value that will be used as fallback if the variable is not set. In this case, we’ve opted to set DEBUG to False if no value is provided so that we do not accidentally leak sensitive information unless the variable is intentionally defined and set to True..\n",
    "\n",
    "To apply this technique, open the polls-project/django-polls/mysite/settings.py file in your editor of choice, and move through it, externalizing the following variables with the provided default values:\n",
    "\n",
    "SECRET_KEY = os.getenv('DJANGO_SECRET_KEY')\n",
    "DEBUG = os.getenv('DEBUG', False)\n",
    "ALLOWED_HOSTS = os.getenv('DJANGO_ALLOWED_HOSTS', '127.0.0.1').split(',')\n",
    "For ALLOWED_HOSTS, we fetch the DJANGO_ALLOWED_HOSTS environment variable, and split it into a Python list using , as a separator. If the variable isn’t set, ALLOWED_HOSTS is set to 127.0.0.1.\n",
    "\n",
    "Once you’ve modified the above variables, navigate to the DATABASES variable and configure it as follows:"
   ]
  },
  {
   "cell_type": "code",
   "execution_count": null,
   "metadata": {},
   "outputs": [],
   "source": [
    "# recursion function\n",
    "my_list=[23,4,2,6,7]\n",
    "def sumoflist(my_list,nsum):\n",
    "    if len(my_list):\n",
    "        return sumoflist\n",
    "    else:\n",
    "        return nsum\n",
    "print(sumoflist(my_list,0))"
   ]
  },
  {
   "cell_type": "code",
   "execution_count": null,
   "metadata": {},
   "outputs": [],
   "source": [
    "# using recursion adding a list of element \n",
    "my_list=[23,4,2,6,7]\n",
    "def sumoflist(my_list,nsum):\n",
    "    if len(my_list):\n",
    "        return sumoflist(my_list[1:],nsum + my_list[0])\n",
    "    else:\n",
    "        return nsum\n",
    "res=sumoflist(my_list,0)\n",
    "print(res)"
   ]
  },
  {
   "cell_type": "code",
   "execution_count": null,
   "metadata": {},
   "outputs": [],
   "source": [
    "my_list[1:]"
   ]
  },
  {
   "cell_type": "code",
   "execution_count": null,
   "metadata": {},
   "outputs": [],
   "source": [
    "my_list[0]"
   ]
  },
  {
   "cell_type": "code",
   "execution_count": null,
   "metadata": {},
   "outputs": [],
   "source": [
    "str1=\"swati \"\n",
    "str2=\"\"\n",
    "str2.replace(str2,str1)"
   ]
  },
  {
   "cell_type": "code",
   "execution_count": null,
   "metadata": {},
   "outputs": [],
   "source": [
    "mystr=\"swati pushp\"\n",
    "mystr.replace(\" \", \"_\")"
   ]
  },
  {
   "cell_type": "code",
   "execution_count": null,
   "metadata": {},
   "outputs": [],
   "source": [
    "def factorial():\n",
    "    fact=1\n",
    "    while(fact>1):\n",
    "        fact=fact+1\n",
    "        "
   ]
  },
  {
   "cell_type": "code",
   "execution_count": null,
   "metadata": {},
   "outputs": [],
   "source": [
    "def callingfun():\n",
    "    print(\"hello swati..calling a function using function name\")\n",
    "callingfun()"
   ]
  },
  {
   "cell_type": "code",
   "execution_count": null,
   "metadata": {},
   "outputs": [],
   "source": [
    "def fun(a,b):\n",
    "    div=a//b\n",
    "    return div\n",
    "fun(25,21)"
   ]
  },
  {
   "cell_type": "code",
   "execution_count": null,
   "metadata": {},
   "outputs": [],
   "source": [
    "anum=int(input(\"enter the numbera\"))\n",
    "bnum=int(input(\"enter the numberb\"))\n",
    "def addnum(anum,bnum):\n",
    "    \n",
    "    \n",
    "    sumadd=anum+bnum\n",
    "    #print(sumadd)\n",
    "    return sumadd\n",
    "\n",
    "var=addnum(anum,bnum)\n",
    "print(var)"
   ]
  },
  {
   "cell_type": "code",
   "execution_count": null,
   "metadata": {},
   "outputs": [],
   "source": [
    "def addn():\n",
    "    a=3\n",
    "    b=4\n",
    "    add=a+b\n",
    "    return add\n",
    "var=addn()\n",
    "print(var)"
   ]
  },
  {
   "cell_type": "code",
   "execution_count": null,
   "metadata": {},
   "outputs": [],
   "source": [
    "def addn(a,b):\n",
    "    \n",
    "    add=a+b\n",
    "    return add\n",
    "var=addn(a=4,b=6)\n",
    "print(var)"
   ]
  },
  {
   "cell_type": "code",
   "execution_count": null,
   "metadata": {},
   "outputs": [],
   "source": [
    "# Python Default Arguments\n",
    "\n",
    "def greet(name, msg=\"Good morning!\"):\n",
    "    \n",
    "    print(\"hello\", name +','+ msg)\n",
    "    \n",
    "greet(\"swati\")\n",
    "greet(\"pushp\", \"How do you do?\")"
   ]
  },
  {
   "cell_type": "code",
   "execution_count": null,
   "metadata": {},
   "outputs": [],
   "source": [
    "# arbitrary arguments\n",
    "def arb(*kids):\n",
    "    print(type(kids))\n",
    "    print(\"youngest is child is \",\" \"+kids[1])\n",
    "    \n",
    "arb(\"sp1\",\"sp2\",\"sp3\",\"sp4\")\n",
    "\n"
   ]
  },
  {
   "cell_type": "code",
   "execution_count": null,
   "metadata": {},
   "outputs": [],
   "source": [
    "print(type(*kids))"
   ]
  },
  {
   "cell_type": "code",
   "execution_count": null,
   "metadata": {},
   "outputs": [],
   "source": [
    "# keyword arguments\n",
    "def keyw(child1,child2,child3):\n",
    "    \n",
    "    print(\"youngest is child is\",child1)\n",
    "    \n",
    "keyw(child1=\"ram\",child2=\"shaym\",child3=\"chandu\")"
   ]
  },
  {
   "cell_type": "code",
   "execution_count": null,
   "metadata": {},
   "outputs": [],
   "source": [
    "# keyword argument and arbitary argument \n",
    "def my_function(**kids):\n",
    "    print(type(kids))\n",
    "    print(\"his last name is :\"+ kids[\"xname\"])\n",
    "    \n",
    "my_function(fname=\"ram\",lname=\"shayam\",xname=\"hari\")\n"
   ]
  },
  {
   "cell_type": "code",
   "execution_count": null,
   "metadata": {},
   "outputs": [],
   "source": []
  },
  {
   "cell_type": "code",
   "execution_count": null,
   "metadata": {},
   "outputs": [],
   "source": [
    "def myfun(fname):\n",
    "    print(fname + \"pushp\")\n",
    "myfun(\"swati\")\n",
    "myfun(\"abc\")"
   ]
  },
  {
   "cell_type": "code",
   "execution_count": null,
   "metadata": {},
   "outputs": [],
   "source": [
    "# passing list as argument \n",
    "def listarg(fruit):\n",
    "    \n",
    "    for i in fruit:\n",
    "        print(i)\n",
    "food=[\"mango\",\"cheery\",\"barry\",\"alo\"]\n",
    "listarg(food)"
   ]
  },
  {
   "cell_type": "code",
   "execution_count": null,
   "metadata": {},
   "outputs": [],
   "source": [
    "import logging\n",
    "dir(logging)"
   ]
  },
  {
   "cell_type": "code",
   "execution_count": null,
   "metadata": {},
   "outputs": [],
   "source": [
    "LOG_FORMAT=\"%(levelname)s %(asctime)s-%(message)s\"\n",
    "logging.basicConfig(file=\"/home/ubuntu/projects/bajrangpress/SWATI_INTERVIEW/swati.log\",\n",
    "                    level=logging.DEBUG,\n",
    "                    format=LOG_FORMAT,\n",
    "                    filemode='w')"
   ]
  },
  {
   "cell_type": "code",
   "execution_count": null,
   "metadata": {},
   "outputs": [],
   "source": [
    "logger=logging.getLogger()"
   ]
  },
  {
   "cell_type": "code",
   "execution_count": null,
   "metadata": {},
   "outputs": [],
   "source": [
    "logger.info(\"my massage\")"
   ]
  },
  {
   "cell_type": "code",
   "execution_count": null,
   "metadata": {},
   "outputs": [],
   "source": [
    "!pwd"
   ]
  },
  {
   "cell_type": "code",
   "execution_count": null,
   "metadata": {},
   "outputs": [],
   "source": [
    "#importing module \n",
    "import logging \n",
    "\n",
    "#Create and configure logger \n",
    "logging.basicConfig(filename=\"newfile.log\", \n",
    "\t\t\t\t\tformat='%(asctime)s %(message)s', \n",
    "\t\t\t\t\tfilemode='w') \n",
    "\n",
    "#Creating an object \n",
    "logger=logging.getLogger() \n",
    "\n",
    "#Setting the threshold of logger to DEBUG \n",
    "logger.setLevel(logging.DEBUG) \n",
    "\n",
    "#Test messages \n",
    "logger.debug(\"Harmless debug Message\") \n",
    "logger.info(\"Just an information\") \n",
    "logger.warning(\"Its a Warning\") \n",
    "logger.error(\"Did you try to divide by zero\") \n",
    "logger.critical(\"Internet is down\") \n"
   ]
  },
  {
   "cell_type": "code",
   "execution_count": null,
   "metadata": {},
   "outputs": [],
   "source": [
    "import pandas as pd    \n",
    "info = {'ID' :[101, 102, 103],'Department' :['B.Sc','B.Tech','M.Tech',]}    \n",
    "info = pd.DataFrame(info)    \n",
    "print (info)"
   ]
  },
  {
   "cell_type": "code",
   "execution_count": null,
   "metadata": {},
   "outputs": [],
   "source": [
    "import pandas as pd    \n",
    "import numpy as np    \n",
    "info = {'x' : 0., 'y' : 1., 'z' : 2.}    \n",
    "a = pd.Series(info)    \n",
    "print (a) "
   ]
  },
  {
   "cell_type": "code",
   "execution_count": null,
   "metadata": {},
   "outputs": [],
   "source": [
    "import pandas as pd\n",
    "pandas.Series.copy\n",
    "Series.copy(deep=True)"
   ]
  },
  {
   "cell_type": "code",
   "execution_count": null,
   "metadata": {},
   "outputs": [],
   "source": [
    "import pandas as pd\n",
    "info=pd.DataFrame()\n",
    "print(info)"
   ]
  },
  {
   "cell_type": "code",
   "execution_count": null,
   "metadata": {},
   "outputs": [],
   "source": [
    "info = {'one' : pd.Series([1, 2, 3, 4, 5], index=['a', 'b', 'c', 'd', 'e']),    \n",
    "             'two' : pd.Series([1, 2, 3, 4, 5, 6], index=['a', 'b', 'c', 'd', 'e', 'f'])} \n",
    "info['three']=pd.Series([20,40,60],index=['a','b','c'])\n",
    "info['four']=info['one']+info['three']"
   ]
  },
  {
   "cell_type": "code",
   "execution_count": null,
   "metadata": {},
   "outputs": [],
   "source": [
    "print(info)"
   ]
  },
  {
   "cell_type": "code",
   "execution_count": null,
   "metadata": {},
   "outputs": [],
   "source": [
    "Python Code Optimization Tips and Tricks for Geeks\n",
    "Interning Strings for Efficiency. ...\n",
    "Peephole Optimization technique. ...\n",
    "Profile your code. ...\n",
    "Using generators and keys for sorting. ...\n",
    "Optimizing loops. ...\n",
    "Use Set operations. ...\n",
    "Avoid using globals. ...\n",
    "Using external libraries/packages"
   ]
  },
  {
   "cell_type": "code",
   "execution_count": 18,
   "metadata": {},
   "outputs": [
    {
     "name": "stdout",
     "output_type": "stream",
     "text": [
      "5\n",
      "6\n",
      "7main: result: 10\n",
      "\n",
      "8main: result: 12\n",
      "\n",
      "9main: result: 14\n",
      "main: result: 16\n",
      "\n",
      "main: result: 18\n"
     ]
    }
   ],
   "source": [
    "# future concurrent module\n",
    "\n",
    "from concurrent import futures\n",
    "import threading \n",
    "import time\n",
    "\n",
    "def task(n):\n",
    "    print(n)\n",
    "    time.sleep(5)\n",
    "    return n*2\n",
    "\n",
    "wait_task=[]\n",
    "ex=futures.ThreadPoolExecutor(max_workers=2)\n",
    "for i in range(5,10):\n",
    "    f=ex.submit(task,i)\n",
    "    wait_task.append(f)\n",
    "    \n",
    "for f in futures.as_completed(wait_task):\n",
    "    print('main: result: {}'.format(f.result()))"
   ]
  },
  {
   "cell_type": "code",
   "execution_count": 25,
   "metadata": {},
   "outputs": [
    {
     "name": "stdout",
     "output_type": "stream",
     "text": [
      "5\n",
      "10\n"
     ]
    }
   ],
   "source": [
    "from concurrent import futures\n",
    "import time\n",
    "import threading\n",
    "\n",
    "def task(n):\n",
    "    print(n)\n",
    "    time.sleep(2)\n",
    "    return n*2\n",
    "\n",
    "\n",
    "ex=futures.ThreadPoolExecutor(max_workers=2)\n",
    "f=ex.submit(task,5)\n",
    "\n",
    "res=f.result()\n",
    "print(res)\n",
    "\n"
   ]
  },
  {
   "cell_type": "code",
   "execution_count": 26,
   "metadata": {},
   "outputs": [
    {
     "name": "stdout",
     "output_type": "stream",
     "text": [
      "1\n",
      "2\n"
     ]
    },
    {
     "ename": "AttributeError",
     "evalue": "module 'concurrent.futures' has no attribute 'as_complete'",
     "output_type": "error",
     "traceback": [
      "\u001b[0;31m---------------------------------------------------------------------------\u001b[0m",
      "\u001b[0;31mAttributeError\u001b[0m                            Traceback (most recent call last)",
      "\u001b[0;32m<ipython-input-26-6f346da0b089>\u001b[0m in \u001b[0;36m<module>\u001b[0;34m\u001b[0m\n\u001b[1;32m     15\u001b[0m     \u001b[0mwait_task\u001b[0m\u001b[0;34m.\u001b[0m\u001b[0mappend\u001b[0m\u001b[0;34m(\u001b[0m\u001b[0mf\u001b[0m\u001b[0;34m)\u001b[0m\u001b[0;34m\u001b[0m\u001b[0;34m\u001b[0m\u001b[0m\n\u001b[1;32m     16\u001b[0m \u001b[0;34m\u001b[0m\u001b[0m\n\u001b[0;32m---> 17\u001b[0;31m \u001b[0;32mfor\u001b[0m \u001b[0mf\u001b[0m \u001b[0;32min\u001b[0m \u001b[0mfutures\u001b[0m\u001b[0;34m.\u001b[0m\u001b[0mas_complete\u001b[0m\u001b[0;34m(\u001b[0m\u001b[0mwait_task\u001b[0m\u001b[0;34m)\u001b[0m\u001b[0;34m:\u001b[0m\u001b[0;34m\u001b[0m\u001b[0;34m\u001b[0m\u001b[0m\n\u001b[0m\u001b[1;32m     18\u001b[0m     \u001b[0mprint\u001b[0m\u001b[0;34m(\u001b[0m\u001b[0;34m\"main : task: {}\"\u001b[0m\u001b[0;34m.\u001b[0m\u001b[0mformat\u001b[0m\u001b[0;34m(\u001b[0m\u001b[0mf\u001b[0m\u001b[0;34m.\u001b[0m\u001b[0mresult\u001b[0m\u001b[0;34m(\u001b[0m\u001b[0;34m)\u001b[0m\u001b[0;34m)\u001b[0m\u001b[0;34m)\u001b[0m\u001b[0;34m\u001b[0m\u001b[0;34m\u001b[0m\u001b[0m\n",
      "\u001b[0;31mAttributeError\u001b[0m: module 'concurrent.futures' has no attribute 'as_complete'"
     ]
    },
    {
     "name": "stdout",
     "output_type": "stream",
     "text": [
      "3\n",
      "4\n"
     ]
    }
   ],
   "source": [
    "from concurrent import futures\n",
    "import time\n",
    "import threading\n",
    "\n",
    "def task(n):\n",
    "    print(n)\n",
    "    time.sleep(2)\n",
    "    return n*2\n",
    "\n",
    "wait_task=[]\n",
    "ex=futures.ThreadPoolExecutor(max_workers=2)\n",
    "for i in range(1,5):\n",
    "\n",
    "    f=ex.submit(task,i)\n",
    "    wait_task.append(f)\n",
    "\n",
    "for f in futures.as_complete(wait_task):\n",
    "    print(\"main : task: {}\".format(f.result()))\n"
   ]
  },
  {
   "cell_type": "code",
   "execution_count": 8,
   "metadata": {},
   "outputs": [
    {
     "name": "stdout",
     "output_type": "stream",
     "text": [
      "5\n"
     ]
    },
    {
     "data": {
      "text/plain": [
       "10"
      ]
     },
     "execution_count": 8,
     "metadata": {},
     "output_type": "execute_result"
    }
   ],
   "source": [
    "def task(n):\n",
    "    print(n)\n",
    "    return n*2\n",
    "task(5)"
   ]
  },
  {
   "cell_type": "code",
   "execution_count": 1,
   "metadata": {},
   "outputs": [
    {
     "name": "stdout",
     "output_type": "stream",
     "text": [
      "swati\n"
     ]
    }
   ],
   "source": [
    "print(\"swati\")"
   ]
  },
  {
   "cell_type": "code",
   "execution_count": 39,
   "metadata": {},
   "outputs": [
    {
     "name": "stdout",
     "output_type": "stream",
     "text": [
      "4\n"
     ]
    }
   ],
   "source": [
    "str=\"ssssppppuuu\"\n",
    "counta=0\n",
    "\n",
    "for i in str:\n",
    "    if(i==\"s\"):\n",
    "        \n",
    "        counta+=1\n",
    "print(counta)\n",
    "    "
   ]
  },
  {
   "cell_type": "code",
   "execution_count": 47,
   "metadata": {},
   "outputs": [
    {
     "name": "stdout",
     "output_type": "stream",
     "text": [
      "{}\n"
     ]
    }
   ],
   "source": [
    "string=\"ssssppppuuu\"\n",
    "count=0\n",
    "dict={}\n",
    "\n",
    "for i in str:\n",
    "    for j in dict:\n",
    "        if(i==j):\n",
    "            dict[j]+=dict[j]+1\n",
    "        else:\n",
    "            dict[j]=1\n",
    "        \n",
    "print(dict)\n",
    "    "
   ]
  },
  {
   "cell_type": "code",
   "execution_count": 49,
   "metadata": {},
   "outputs": [
    {
     "data": {
      "text/plain": [
       "{'s': 4, 'p': 4, 'u': 3}"
      ]
     },
     "execution_count": 49,
     "metadata": {},
     "output_type": "execute_result"
    }
   ],
   "source": [
    "cdict={}\n",
    "for c in string:\n",
    "    if c in cdict:\n",
    "        cdict[c]=cdict[c]+1\n",
    "    else:\n",
    "        cdict[c]=1\n",
    "cdict"
   ]
  },
  {
   "cell_type": "code",
   "execution_count": 45,
   "metadata": {},
   "outputs": [
    {
     "name": "stdout",
     "output_type": "stream",
     "text": [
      "{'s': 3, 'p': 6}\n"
     ]
    }
   ],
   "source": [
    "str1=\"ssspppppp\"\n",
    "str2=\"abcdefghijklnopqrstuvwxyz\"\n",
    "dictnew={}\n",
    "count1=0\n",
    "for i in str1:\n",
    "    for j in str2:\n",
    "        if(i==j):\n",
    "            if i in dictnew:\n",
    "                dictnew[i]=dictnew[i]+1\n",
    "            else:\n",
    "                dictnew[i]=1\n",
    "print(dictnew)"
   ]
  },
  {
   "cell_type": "code",
   "execution_count": 54,
   "metadata": {},
   "outputs": [],
   "source": [
    "# fibbonacis series\n",
    "\n",
    "\n",
    " "
   ]
  },
  {
   "cell_type": "code",
   "execution_count": 60,
   "metadata": {},
   "outputs": [
    {
     "name": "stdout",
     "output_type": "stream",
     "text": [
      "8\n"
     ]
    }
   ],
   "source": [
    "# fibbonac series\n",
    "fseries=[0,1]\n",
    "def fibo(n):\n",
    "    if n<=0:\n",
    "        print(\"incorrect input\")\n",
    "    elif n==1:\n",
    "        return 0\n",
    "    elif n==2:\n",
    "        return 1\n",
    "    else:\n",
    "        fn\n",
    "        return fibo(n-1)+n\n",
    "var=fibo(4)\n",
    "print(var)\n",
    "       "
   ]
  },
  {
   "cell_type": "code",
   "execution_count": 64,
   "metadata": {},
   "outputs": [
    {
     "name": "stdout",
     "output_type": "stream",
     "text": [
      "2\n"
     ]
    },
    {
     "data": {
      "text/plain": [
       "[0, 1, 1, 2]"
      ]
     },
     "execution_count": 64,
     "metadata": {},
     "output_type": "execute_result"
    }
   ],
   "source": [
    "# fibbonac series\n",
    "fseries=[0,1]\n",
    "def fibo(n):\n",
    "    if n<=0:\n",
    "        print(\"incorrect input\")\n",
    "    elif n==1:\n",
    "        return 0\n",
    "    elif n==2:\n",
    "        return 1\n",
    "    else:\n",
    "        fn=fibo(n-1)+fibo(n-2)\n",
    "        fseries.append(fn)\n",
    "        return fn\n",
    "var=fibo(4)\n",
    "print(var)\n",
    "fseries"
   ]
  },
  {
   "cell_type": "code",
   "execution_count": null,
   "metadata": {},
   "outputs": [],
   "source": []
  }
 ],
 "metadata": {
  "kernelspec": {
   "display_name": "devEnv",
   "language": "python",
   "name": "devenv"
  },
  "language_info": {
   "codemirror_mode": {
    "name": "ipython",
    "version": 3
   },
   "file_extension": ".py",
   "mimetype": "text/x-python",
   "name": "python",
   "nbconvert_exporter": "python",
   "pygments_lexer": "ipython3",
   "version": "3.6.10"
  }
 },
 "nbformat": 4,
 "nbformat_minor": 4
}
